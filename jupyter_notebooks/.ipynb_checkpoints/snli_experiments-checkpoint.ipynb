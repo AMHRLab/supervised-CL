{
 "cells": [
  {
   "cell_type": "code",
   "execution_count": 93,
   "metadata": {},
   "outputs": [],
   "source": [
    "import pandas as pd\n",
    "import numpy as np\n",
    "from sklearn.model_selection import KFold\n",
    "from imblearn.over_sampling import RandomOverSampler, SMOTE\n",
    "from simpletransformers.classification import ClassificationModel\n",
    "import sklearn"
   ]
  },
  {
   "cell_type": "code",
   "execution_count": 94,
   "metadata": {},
   "outputs": [],
   "source": [
    "# read the dev set\n",
    "df = pd.read_json(\"snli_1.0/snli_1.0_dev.jsonl\",lines=True)\n",
    "agreement = [labels.count(gold_label) for labels, gold_label in zip(list(df['annotator_labels'].values), list(df['gold_label'].values)) if gold_label != '' and labels]\n",
    "\n",
    "# calculate the agreement\n",
    "agr = pd.DataFrame(agreement, columns=['agreement'])\n",
    "# apparently 0.0, 0.6, 0.8, 1.0 are the only possible options, so mapping them to classes\n",
    "labels = {'key_0.0': 0, 'key_0.6': 1, 'key_0.8': 2, 'key_1.0': 3}"
   ]
  },
  {
   "cell_type": "code",
   "execution_count": 95,
   "metadata": {},
   "outputs": [
    {
     "name": "stderr",
     "output_type": "stream",
     "text": [
      "<ipython-input-95-b1a2c186fe4a>:9: SettingWithCopyWarning: \n",
      "A value is trying to be set on a copy of a slice from a DataFrame\n",
      "\n",
      "See the caveats in the documentation: https://pandas.pydata.org/pandas-docs/stable/user_guide/indexing.html#returning-a-view-versus-a-copy\n",
      "  df['labels'][index] = int(labels['key_' + str(row['labels'])])\n"
     ]
    }
   ],
   "source": [
    "# create the dataframe\n",
    "df = pd.DataFrame({\n",
    "    'text_a': df['sentence1'],\n",
    "    'text_b': df['sentence2'],\n",
    "    'labels': agr['agreement']/5\n",
    "})\n",
    "\n",
    "for index, row in df.iterrows():\n",
    "    df['labels'][index] = int(labels['key_' + str(row['labels'])])\n"
   ]
  },
  {
   "cell_type": "code",
   "execution_count": 96,
   "metadata": {},
   "outputs": [],
   "source": [
    "# oversampling all the minority classes\n",
    "oversample = RandomOverSampler(sampling_strategy='not majority')\n",
    "df, y = oversample.fit_resample(df, df['labels'])"
   ]
  },
  {
   "cell_type": "code",
   "execution_count": 92,
   "metadata": {},
   "outputs": [],
   "source": [
    "models = ['roberta-large', 'roberta-base']\n",
    "epochs = [5,6,7,8]\n",
    "lrs = [1e-3,1e-4,1e-5,1e-6,5e-3,5e-4,5e-5,5e-6]\n",
    "bss = [4,8,16]\n",
    "kfold = KFold(10, True, 1)\n",
    "\n",
    "\n",
    "for model_name in models:\n",
    "    for epoch in epochs:\n",
    "        for lr in lrs:\n",
    "            for bs in bss:\n",
    "                file = open(\"nn_class_results_oversample.txt\",\"a\")\n",
    "                result = f'Model: {model_name} Epoch: {epoch} LR: {lr} Batch: {bs} \\n'\n",
    "                file.write(result)\n",
    "                for train, test in kfold.split(X):\n",
    "                    \n",
    "                    \n",
    "                    train_df = pd.DataFrame(X[train], columns=['text_a', 'text_b', 'labels'])\n",
    "                    test_df = pd.DataFrame(X[test], columns=['text_a', 'text_b', 'labels'])\n",
    "                    \n",
    "                    \n",
    "                    train_df['labels'] = pd.to_numeric(train_df['labels'])\n",
    "                    test_df['labels'] = pd.to_numeric(test_df['labels'])\n",
    "\n",
    "                    train_args={\n",
    "                        'reprocess_input_data': True,\n",
    "                        'overwrite_output_dir': True,\n",
    "                        'num_train_epochs': epoch,\n",
    "                        'train_batch_size': bs,\n",
    "                        'eval_batch_size': bs,\n",
    "                        'learning_rate': lr,\n",
    "                    }\n",
    "\n",
    "                    # Create a ClassificationModel\n",
    "                    model = ClassificationModel('roberta', model_name, num_labels=3, use_cuda=True, cuda_device=0, args=train_args)\n",
    "\n",
    "                    # Train the model\n",
    "                    model.train_model(train_df)\n",
    "                    result, model_outputs, wrong_predictions = model.eval_model(test_df, acc=sklearn.metrics.accuracy_score)\n",
    "                    \n",
    "                    file.write(\"  \" + str(result))\n",
    "                    \n",
    "                    os.system('rm -r outputs/')\n",
    "                \n",
    "                file.write('\\n')\n",
    "                file.close()"
   ]
  },
  {
   "cell_type": "code",
   "execution_count": null,
   "metadata": {},
   "outputs": [],
   "source": []
  }
 ],
 "metadata": {
  "kernelspec": {
   "display_name": "Python 3",
   "language": "python",
   "name": "python3"
  },
  "language_info": {
   "codemirror_mode": {
    "name": "ipython",
    "version": 3
   },
   "file_extension": ".py",
   "mimetype": "text/x-python",
   "name": "python",
   "nbconvert_exporter": "python",
   "pygments_lexer": "ipython3",
   "version": "3.8.3"
  }
 },
 "nbformat": 4,
 "nbformat_minor": 4
}
