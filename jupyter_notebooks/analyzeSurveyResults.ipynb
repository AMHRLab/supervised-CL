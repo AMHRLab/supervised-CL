{
 "metadata": {
  "language_info": {
   "codemirror_mode": {
    "name": "ipython",
    "version": 3
   },
   "file_extension": ".py",
   "mimetype": "text/x-python",
   "name": "python",
   "nbconvert_exporter": "python",
   "pygments_lexer": "ipython3",
   "version": "3.7.7-final"
  },
  "orig_nbformat": 2,
  "kernelspec": {
   "name": "python_defaultSpec_1599327402749",
   "display_name": "Python 3.7.7 64-bit ('mturk': conda)"
  }
 },
 "nbformat": 4,
 "nbformat_minor": 2,
 "cells": [
  {
   "cell_type": "code",
   "execution_count": 2,
   "metadata": {},
   "outputs": [
    {
     "output_type": "execute_result",
     "data": {
      "text/plain": "                                                 QID2  \\\n0   Given the Premise, is the Hypothesis definitel...   \n1                                 {\"ImportId\":\"QID2\"}   \n2                                                 NaN   \n3                                                 NaN   \n4                                                 NaN   \n..                                                ...   \n85                                                NaN   \n86                                                NaN   \n87                                                NaN   \n88  neither definitely correct nor definitely inco...   \n89                                                NaN   \n\n                                                 QID3  \\\n0   Given the Premise, is the Hypothesis definitel...   \n1                                 {\"ImportId\":\"QID3\"}   \n2                                                 NaN   \n3                                                 NaN   \n4                                                 NaN   \n..                                                ...   \n85                                                NaN   \n86                                                NaN   \n87                                                NaN   \n88                                                NaN   \n89                                                NaN   \n\n                                                 QID4  \\\n0   Given the Premise, is the Hypothesis definitel...   \n1                                 {\"ImportId\":\"QID4\"}   \n2                                                 NaN   \n3                                                 NaN   \n4                                                 NaN   \n..                                                ...   \n85                                                NaN   \n86                                                NaN   \n87                                                NaN   \n88                                                NaN   \n89                                                NaN   \n\n                                                 QID5  \\\n0   Given the Premise, is the Hypothesis definitel...   \n1                                 {\"ImportId\":\"QID5\"}   \n2                                                 NaN   \n3                                                 NaN   \n4                                                 NaN   \n..                                                ...   \n85                                                NaN   \n86                                                NaN   \n87                                                NaN   \n88                                                NaN   \n89                                                NaN   \n\n                                                 QID6  \\\n0   Given the Premise, is the Hypothesis definitel...   \n1                                 {\"ImportId\":\"QID6\"}   \n2                                                 NaN   \n3                                                 NaN   \n4                                                 NaN   \n..                                                ...   \n85                                                NaN   \n86                                                NaN   \n87                                                NaN   \n88                                                NaN   \n89                                                NaN   \n\n                                                 QID7  \\\n0   Given the Premise, is the Hypothesis definitel...   \n1                                 {\"ImportId\":\"QID7\"}   \n2                                                 NaN   \n3                                                 NaN   \n4                                                 NaN   \n..                                                ...   \n85                                                NaN   \n86                                                NaN   \n87                                                NaN   \n88                                                NaN   \n89                                                NaN   \n\n                                                 QID8  \\\n0   Given the Premise, is the Hypothesis definitel...   \n1                                 {\"ImportId\":\"QID8\"}   \n2                                                 NaN   \n3                                                 NaN   \n4                                                 NaN   \n..                                                ...   \n85                                                NaN   \n86                                                NaN   \n87                                                NaN   \n88                                                NaN   \n89                                                NaN   \n\n                                                 QID9  \\\n0   Given the Premise, is the Hypothesis definitel...   \n1                                 {\"ImportId\":\"QID9\"}   \n2                                                 NaN   \n3                                                 NaN   \n4                                                 NaN   \n..                                                ...   \n85                                                NaN   \n86                                                NaN   \n87                                                NaN   \n88                                 definitely correct   \n89                                                NaN   \n\n                                                QID10  \\\n0   Given the Premise, is the Hypothesis definitel...   \n1                                {\"ImportId\":\"QID10\"}   \n2                                                 NaN   \n3                                                 NaN   \n4                                                 NaN   \n..                                                ...   \n85                                                NaN   \n86  neither definitely correct nor definitely inco...   \n87                                                NaN   \n88                                                NaN   \n89                                                NaN   \n\n                                                QID11  ...  \\\n0   Given the Premise, is the Hypothesis definitel...  ...   \n1                                {\"ImportId\":\"QID11\"}  ...   \n2                                                 NaN  ...   \n3                                                 NaN  ...   \n4                                                 NaN  ...   \n..                                                ...  ...   \n85                                                NaN  ...   \n86                                                NaN  ...   \n87                                                NaN  ...   \n88                                                NaN  ...   \n89                                                NaN  ...   \n\n                                               QID298  \\\n0   Given the Premise, is the Hypothesis definitel...   \n1                               {\"ImportId\":\"QID298\"}   \n2                                                 NaN   \n3                                                 NaN   \n4                                                 NaN   \n..                                                ...   \n85                                                NaN   \n86                                                NaN   \n87                                                NaN   \n88                                                NaN   \n89                                                NaN   \n\n                                               QID299  \\\n0   Given the Premise, is the Hypothesis definitel...   \n1                               {\"ImportId\":\"QID299\"}   \n2                                                 NaN   \n3                                                 NaN   \n4                                                 NaN   \n..                                                ...   \n85                                                NaN   \n86                                                NaN   \n87                                                NaN   \n88                                                NaN   \n89                                 definitely correct   \n\n                                               QID300  \\\n0   Given the Premise, is the Hypothesis definitel...   \n1                               {\"ImportId\":\"QID300\"}   \n2                                                 NaN   \n3                                                 NaN   \n4                                                 NaN   \n..                                                ...   \n85                                                NaN   \n86                                                NaN   \n87                                                NaN   \n88                                                NaN   \n89                                                NaN   \n\n                                                 Q308  \\\n0   Given the Premise, is the Hypothesis definitel...   \n1                               {\"ImportId\":\"QID308\"}   \n2                                                 NaN   \n3                                definitely incorrect   \n4                                                 NaN   \n..                                                ...   \n85                               definitely incorrect   \n86                                                NaN   \n87                                 definitely correct   \n88                                                NaN   \n89                                                NaN   \n\n                                                 Q309  \\\n0   Given the Premise, is the Hypothesis definitel...   \n1                               {\"ImportId\":\"QID309\"}   \n2   neither definitely correct nor definitely inco...   \n3                                                 NaN   \n4                                                 NaN   \n..                                                ...   \n85                                                NaN   \n86                                                NaN   \n87                                                NaN   \n88  neither definitely correct nor definitely inco...   \n89  neither definitely correct nor definitely inco...   \n\n                                                 Q310  \\\n0   Given the Premise, is the Hypothesis definitel...   \n1                               {\"ImportId\":\"QID310\"}   \n2                                                 NaN   \n3                                                 NaN   \n4                                                 NaN   \n..                                                ...   \n85                                                NaN   \n86                                                NaN   \n87                                                NaN   \n88                                                NaN   \n89                                                NaN   \n\n                                                 Q311  \\\n0   Given the Premise, is the Hypothesis definitel...   \n1                               {\"ImportId\":\"QID311\"}   \n2                                                 NaN   \n3                                                 NaN   \n4                                                 NaN   \n..                                                ...   \n85                                                NaN   \n86                                                NaN   \n87                                                NaN   \n88                                                NaN   \n89                                                NaN   \n\n                                                 Q312  \\\n0   Given the Premise, is the Hypothesis definitel...   \n1                               {\"ImportId\":\"QID312\"}   \n2                                                 NaN   \n3                                                 NaN   \n4                                                 NaN   \n..                                                ...   \n85                                                NaN   \n86                                                NaN   \n87                                                NaN   \n88                                                NaN   \n89                                                NaN   \n\n                                                 Q313  \\\n0   Given the Premise, is the Hypothesis definitel...   \n1                               {\"ImportId\":\"QID313\"}   \n2                                                 NaN   \n3                                                 NaN   \n4                                                 NaN   \n..                                                ...   \n85                                                NaN   \n86                                 definitely correct   \n87                                                NaN   \n88                                                NaN   \n89                                                NaN   \n\n                    RandomId  \n0                  Random ID  \n1   {\"ImportId\":\"Random ID\"}  \n2             61445326288230  \n3             35876488802023  \n4             38444590615108  \n..                       ...  \n85            12559431069530  \n86            21957201068289  \n87            94022159604355  \n88            89232312422245  \n89             7078240392729  \n\n[90 rows x 312 columns]",
      "text/html": "<div>\n<style scoped>\n    .dataframe tbody tr th:only-of-type {\n        vertical-align: middle;\n    }\n\n    .dataframe tbody tr th {\n        vertical-align: top;\n    }\n\n    .dataframe thead th {\n        text-align: right;\n    }\n</style>\n<table border=\"1\" class=\"dataframe\">\n  <thead>\n    <tr style=\"text-align: right;\">\n      <th></th>\n      <th>QID2</th>\n      <th>QID3</th>\n      <th>QID4</th>\n      <th>QID5</th>\n      <th>QID6</th>\n      <th>QID7</th>\n      <th>QID8</th>\n      <th>QID9</th>\n      <th>QID10</th>\n      <th>QID11</th>\n      <th>...</th>\n      <th>QID298</th>\n      <th>QID299</th>\n      <th>QID300</th>\n      <th>Q308</th>\n      <th>Q309</th>\n      <th>Q310</th>\n      <th>Q311</th>\n      <th>Q312</th>\n      <th>Q313</th>\n      <th>RandomId</th>\n    </tr>\n  </thead>\n  <tbody>\n    <tr>\n      <th>0</th>\n      <td>Given the Premise, is the Hypothesis definitel...</td>\n      <td>Given the Premise, is the Hypothesis definitel...</td>\n      <td>Given the Premise, is the Hypothesis definitel...</td>\n      <td>Given the Premise, is the Hypothesis definitel...</td>\n      <td>Given the Premise, is the Hypothesis definitel...</td>\n      <td>Given the Premise, is the Hypothesis definitel...</td>\n      <td>Given the Premise, is the Hypothesis definitel...</td>\n      <td>Given the Premise, is the Hypothesis definitel...</td>\n      <td>Given the Premise, is the Hypothesis definitel...</td>\n      <td>Given the Premise, is the Hypothesis definitel...</td>\n      <td>...</td>\n      <td>Given the Premise, is the Hypothesis definitel...</td>\n      <td>Given the Premise, is the Hypothesis definitel...</td>\n      <td>Given the Premise, is the Hypothesis definitel...</td>\n      <td>Given the Premise, is the Hypothesis definitel...</td>\n      <td>Given the Premise, is the Hypothesis definitel...</td>\n      <td>Given the Premise, is the Hypothesis definitel...</td>\n      <td>Given the Premise, is the Hypothesis definitel...</td>\n      <td>Given the Premise, is the Hypothesis definitel...</td>\n      <td>Given the Premise, is the Hypothesis definitel...</td>\n      <td>Random ID</td>\n    </tr>\n    <tr>\n      <th>1</th>\n      <td>{\"ImportId\":\"QID2\"}</td>\n      <td>{\"ImportId\":\"QID3\"}</td>\n      <td>{\"ImportId\":\"QID4\"}</td>\n      <td>{\"ImportId\":\"QID5\"}</td>\n      <td>{\"ImportId\":\"QID6\"}</td>\n      <td>{\"ImportId\":\"QID7\"}</td>\n      <td>{\"ImportId\":\"QID8\"}</td>\n      <td>{\"ImportId\":\"QID9\"}</td>\n      <td>{\"ImportId\":\"QID10\"}</td>\n      <td>{\"ImportId\":\"QID11\"}</td>\n      <td>...</td>\n      <td>{\"ImportId\":\"QID298\"}</td>\n      <td>{\"ImportId\":\"QID299\"}</td>\n      <td>{\"ImportId\":\"QID300\"}</td>\n      <td>{\"ImportId\":\"QID308\"}</td>\n      <td>{\"ImportId\":\"QID309\"}</td>\n      <td>{\"ImportId\":\"QID310\"}</td>\n      <td>{\"ImportId\":\"QID311\"}</td>\n      <td>{\"ImportId\":\"QID312\"}</td>\n      <td>{\"ImportId\":\"QID313\"}</td>\n      <td>{\"ImportId\":\"Random ID\"}</td>\n    </tr>\n    <tr>\n      <th>2</th>\n      <td>NaN</td>\n      <td>NaN</td>\n      <td>NaN</td>\n      <td>NaN</td>\n      <td>NaN</td>\n      <td>NaN</td>\n      <td>NaN</td>\n      <td>NaN</td>\n      <td>NaN</td>\n      <td>NaN</td>\n      <td>...</td>\n      <td>NaN</td>\n      <td>NaN</td>\n      <td>NaN</td>\n      <td>NaN</td>\n      <td>neither definitely correct nor definitely inco...</td>\n      <td>NaN</td>\n      <td>NaN</td>\n      <td>NaN</td>\n      <td>NaN</td>\n      <td>61445326288230</td>\n    </tr>\n    <tr>\n      <th>3</th>\n      <td>NaN</td>\n      <td>NaN</td>\n      <td>NaN</td>\n      <td>NaN</td>\n      <td>NaN</td>\n      <td>NaN</td>\n      <td>NaN</td>\n      <td>NaN</td>\n      <td>NaN</td>\n      <td>NaN</td>\n      <td>...</td>\n      <td>NaN</td>\n      <td>NaN</td>\n      <td>NaN</td>\n      <td>definitely incorrect</td>\n      <td>NaN</td>\n      <td>NaN</td>\n      <td>NaN</td>\n      <td>NaN</td>\n      <td>NaN</td>\n      <td>35876488802023</td>\n    </tr>\n    <tr>\n      <th>4</th>\n      <td>NaN</td>\n      <td>NaN</td>\n      <td>NaN</td>\n      <td>NaN</td>\n      <td>NaN</td>\n      <td>NaN</td>\n      <td>NaN</td>\n      <td>NaN</td>\n      <td>NaN</td>\n      <td>NaN</td>\n      <td>...</td>\n      <td>NaN</td>\n      <td>NaN</td>\n      <td>NaN</td>\n      <td>NaN</td>\n      <td>NaN</td>\n      <td>NaN</td>\n      <td>NaN</td>\n      <td>NaN</td>\n      <td>NaN</td>\n      <td>38444590615108</td>\n    </tr>\n    <tr>\n      <th>...</th>\n      <td>...</td>\n      <td>...</td>\n      <td>...</td>\n      <td>...</td>\n      <td>...</td>\n      <td>...</td>\n      <td>...</td>\n      <td>...</td>\n      <td>...</td>\n      <td>...</td>\n      <td>...</td>\n      <td>...</td>\n      <td>...</td>\n      <td>...</td>\n      <td>...</td>\n      <td>...</td>\n      <td>...</td>\n      <td>...</td>\n      <td>...</td>\n      <td>...</td>\n      <td>...</td>\n    </tr>\n    <tr>\n      <th>85</th>\n      <td>NaN</td>\n      <td>NaN</td>\n      <td>NaN</td>\n      <td>NaN</td>\n      <td>NaN</td>\n      <td>NaN</td>\n      <td>NaN</td>\n      <td>NaN</td>\n      <td>NaN</td>\n      <td>NaN</td>\n      <td>...</td>\n      <td>NaN</td>\n      <td>NaN</td>\n      <td>NaN</td>\n      <td>definitely incorrect</td>\n      <td>NaN</td>\n      <td>NaN</td>\n      <td>NaN</td>\n      <td>NaN</td>\n      <td>NaN</td>\n      <td>12559431069530</td>\n    </tr>\n    <tr>\n      <th>86</th>\n      <td>NaN</td>\n      <td>NaN</td>\n      <td>NaN</td>\n      <td>NaN</td>\n      <td>NaN</td>\n      <td>NaN</td>\n      <td>NaN</td>\n      <td>NaN</td>\n      <td>neither definitely correct nor definitely inco...</td>\n      <td>NaN</td>\n      <td>...</td>\n      <td>NaN</td>\n      <td>NaN</td>\n      <td>NaN</td>\n      <td>NaN</td>\n      <td>NaN</td>\n      <td>NaN</td>\n      <td>NaN</td>\n      <td>NaN</td>\n      <td>definitely correct</td>\n      <td>21957201068289</td>\n    </tr>\n    <tr>\n      <th>87</th>\n      <td>NaN</td>\n      <td>NaN</td>\n      <td>NaN</td>\n      <td>NaN</td>\n      <td>NaN</td>\n      <td>NaN</td>\n      <td>NaN</td>\n      <td>NaN</td>\n      <td>NaN</td>\n      <td>NaN</td>\n      <td>...</td>\n      <td>NaN</td>\n      <td>NaN</td>\n      <td>NaN</td>\n      <td>definitely correct</td>\n      <td>NaN</td>\n      <td>NaN</td>\n      <td>NaN</td>\n      <td>NaN</td>\n      <td>NaN</td>\n      <td>94022159604355</td>\n    </tr>\n    <tr>\n      <th>88</th>\n      <td>neither definitely correct nor definitely inco...</td>\n      <td>NaN</td>\n      <td>NaN</td>\n      <td>NaN</td>\n      <td>NaN</td>\n      <td>NaN</td>\n      <td>NaN</td>\n      <td>definitely correct</td>\n      <td>NaN</td>\n      <td>NaN</td>\n      <td>...</td>\n      <td>NaN</td>\n      <td>NaN</td>\n      <td>NaN</td>\n      <td>NaN</td>\n      <td>neither definitely correct nor definitely inco...</td>\n      <td>NaN</td>\n      <td>NaN</td>\n      <td>NaN</td>\n      <td>NaN</td>\n      <td>89232312422245</td>\n    </tr>\n    <tr>\n      <th>89</th>\n      <td>NaN</td>\n      <td>NaN</td>\n      <td>NaN</td>\n      <td>NaN</td>\n      <td>NaN</td>\n      <td>NaN</td>\n      <td>NaN</td>\n      <td>NaN</td>\n      <td>NaN</td>\n      <td>NaN</td>\n      <td>...</td>\n      <td>NaN</td>\n      <td>definitely correct</td>\n      <td>NaN</td>\n      <td>NaN</td>\n      <td>neither definitely correct nor definitely inco...</td>\n      <td>NaN</td>\n      <td>NaN</td>\n      <td>NaN</td>\n      <td>NaN</td>\n      <td>7078240392729</td>\n    </tr>\n  </tbody>\n</table>\n<p>90 rows × 312 columns</p>\n</div>"
     },
     "metadata": {},
     "execution_count": 2
    }
   ],
   "source": [
    "import pandas as pd\n",
    "import unicodedata\n",
    "import re\n",
    "from sklearn.utils import shuffle\n",
    "\n",
    "ansi_escape = re.compile(r'\\x1B(?:[@-Z\\\\-_]|\\[[0-?]*[ -/]*[@-~])')\n",
    "\n",
    "\n",
    "response_df = pd.read_csv('./ANLI_R3_Survey_Final_September 4, 2020_09.04.csv')\n",
    "response_attention_checks = pd.DataFrame({\n",
    "    'responseID': response_df['Random ID'],\n",
    "    'check1': response_df['Q302'],\n",
    "    'check2': response_df['Q303'],\n",
    "    'check3': response_df['Q304'],\n",
    "    'check4': response_df['Q305'],\n",
    "    'check5': response_df['Q306'],\n",
    "    'check6': response_df['Q307'],\n",
    "    'check7': response_df['Q308'],\n",
    "    'check8': response_df['Q309'],\n",
    "    'check9': response_df['Q310'],\n",
    "    'check10': response_df['Q311'],\n",
    "    'check11': response_df['Q312'],\n",
    "    'check12': response_df['Q313']\n",
    "\n",
    "})\n",
    "response_questions = response_df.drop(['StartDate','EndDate','Status','IPAddress','Progress','Duration (in seconds)','Finished','RecordedDate','ResponseId','RecipientLastName', \\\n",
    "'RecipientFirstName','RecipientEmail','ExternalReference','LocationLatitude','LocationLongitude','DistributionChannel','UserLanguage'],axis=1)\n",
    "# response_questions.set_index('Random ID',inplace=True)\n",
    "response_questions.rename(columns={\"Random ID\": \"RandomId\"}, inplace=True)\n",
    "response_questions"
   ]
  },
  {
   "cell_type": "code",
   "execution_count": null,
   "metadata": {},
   "outputs": [],
   "source": [
    "response_questions.iloc[2]"
   ]
  },
  {
   "cell_type": "code",
   "execution_count": null,
   "metadata": {},
   "outputs": [],
   "source": []
  },
  {
   "cell_type": "code",
   "execution_count": null,
   "metadata": {
    "tags": []
   },
   "outputs": [],
   "source": []
  },
  {
   "cell_type": "code",
   "execution_count": 54,
   "metadata": {
    "tags": []
   },
   "outputs": [
    {
     "output_type": "stream",
     "name": "stdout",
     "text": "37\n[('61445326288230', 2), ('5918052908964', 5), ('85769710945896', 8), ('23467815760523', 11), ('59494899632409', 12), ('58872996177524', 14), ('43165576714091', 15), ('68321020714938', 17), ('92963079409673', 21), ('90455432306043', 23), ('57974082743749', 24), ('94496444007381', 26), ('95626433915458', 27), ('6383683509193', 30), ('69377727154642', 37), ('2982167620211', 39), ('13732979469932', 44), ('3813853557221', 48), ('48222230374813', 50), ('18138183839619', 54), ('78198984265327', 60), ('37883877265267', 62), ('8198794443160', 63), ('95119172590784', 64), ('95733413449488', 65), ('25947750336490', 66), ('37273650430142', 67), ('69503748207353', 71), ('13361342321150', 72), ('46358098718337', 77), ('81421692809090', 78), ('53600934171117', 79), ('80719325295649', 82), ('29851378197781', 83), ('12559431069530', 85), ('89232312422245', 88), ('7078240392729', 89)]\n"
    }
   ],
   "source": [
    "# check for participants who failed both attention checks\n",
    "failed_attention_checks = []\n",
    "attention_answer_map = {\n",
    "    'check1': 'definitely incorrect',\n",
    "    'check2': 'definitely correct',\n",
    "    'check3': 'neither definitely correct nor definitely incorrect',\n",
    "    'check4': 'definitely correct',\n",
    "    'check5': 'definitely incorrect',\n",
    "    'check6': 'neither definitely correct nor definitely incorrect',\n",
    "    'check7': 'definitely incorrect',\n",
    "    'check8': 'neither definitely correct nor definitely incorrect',\n",
    "    'check9': 'definitely correct',\n",
    "    'check10': 'neither definitely correct nor definitely incorrect',\n",
    "    'check11': 'definitely incorrect',\n",
    "    'check12': 'definitely correct'\n",
    "}\n",
    "outfile = open(\"passed_attention_checks.txt\",'w+')\n",
    "for id in range(2,len(response_attention_checks)):\n",
    "    response = response_attention_checks.iloc[id]\n",
    "    attention_correct_count = 0\n",
    "    for k,v in attention_answer_map.items():\n",
    "        if response[k] == v:\n",
    "            attention_correct_count +=  1\n",
    "        \n",
    "    if attention_correct_count == 2:\n",
    "        failed_attention_checks.append((response['responseID'],id))\n",
    "        outfile.write(response['responseID'])\n",
    "        outfile.write('\\n')\n",
    "\n",
    "print(len(failed_attention_checks))\n",
    "print(failed_attention_checks)\n",
    "outfile.close()"
   ]
  },
  {
   "cell_type": "code",
   "execution_count": null,
   "metadata": {
    "tags": []
   },
   "outputs": [],
   "source": [
    "import math\n",
    "none_answered = []\n",
    "for id in failed_attention_checks:\n",
    "    response = response_attention_checks.iloc[id[1]]\n",
    "    not_answered = 0\n",
    "    for k,v in attention_answer_map.items():\n",
    "        if isinstance(response[k], str) == True:\n",
    "            not_answered += 1\n",
    "    if not_answered != 2:\n",
    "        none_answered.append(id)\n",
    "\n",
    "print(len(none_answered))\n",
    "print(none_answered)"
   ]
  },
  {
   "cell_type": "code",
   "execution_count": null,
   "metadata": {},
   "outputs": [],
   "source": [
    "response_attention_checks.iloc[87]"
   ]
  },
  {
   "cell_type": "code",
   "execution_count": null,
   "metadata": {
    "tags": []
   },
   "outputs": [],
   "source": [
    "# check for participants who did not answer all questions\n",
    "outfile = open(\"unanswered_questions.txt\",'w+')\n",
    "for id in range(2,len(response_questions)):\n",
    "    null_counts = pd.notna(response_questions.iloc[id])\n",
    "    count = null_counts.isin([True]).sum(axis=0)\n",
    "    # check for 16 to account for random id\n",
    "    if count != 16:\n",
    "        print(f\"{count} {id}\")\n",
    "        outfile.write(response_questions.iloc[id]['Random ID'])\n",
    "        outfile.write(\"\\n\")\n",
    "\n",
    "outfile.close()"
   ]
  },
  {
   "cell_type": "code",
   "execution_count": null,
   "metadata": {
    "tags": []
   },
   "outputs": [],
   "source": [
    "null_counts = pd.notna(response_questions.iloc[15])\n",
    "print(null_counts)"
   ]
  },
  {
   "cell_type": "markdown",
   "metadata": {},
   "source": [
    "# Strip out all the phase 1 rejections for phase 2. But also caculate the accuracy scores for the phase 1 rejects"
   ]
  },
  {
   "cell_type": "code",
   "execution_count": 38,
   "metadata": {},
   "outputs": [
    {
     "output_type": "execute_result",
     "data": {
      "text/plain": "                                                 QID2  \\\n0   Given the Premise, is the Hypothesis definitel...   \n1                                 {\"ImportId\":\"QID2\"}   \n2                                                 NaN   \n3                                                 NaN   \n4                                                 NaN   \n..                                                ...   \n85                                                NaN   \n86                                                NaN   \n87                                                NaN   \n88  neither definitely correct nor definitely inco...   \n89                                                NaN   \n\n                                                 QID3  \\\n0   Given the Premise, is the Hypothesis definitel...   \n1                                 {\"ImportId\":\"QID3\"}   \n2                                                 NaN   \n3                                                 NaN   \n4                                                 NaN   \n..                                                ...   \n85                                                NaN   \n86                                                NaN   \n87                                                NaN   \n88                                                NaN   \n89                                                NaN   \n\n                                                 QID4  \\\n0   Given the Premise, is the Hypothesis definitel...   \n1                                 {\"ImportId\":\"QID4\"}   \n2                                                 NaN   \n3                                                 NaN   \n4                                                 NaN   \n..                                                ...   \n85                                                NaN   \n86                                                NaN   \n87                                                NaN   \n88                                                NaN   \n89                                                NaN   \n\n                                                 QID5  \\\n0   Given the Premise, is the Hypothesis definitel...   \n1                                 {\"ImportId\":\"QID5\"}   \n2                                                 NaN   \n3                                                 NaN   \n4                                                 NaN   \n..                                                ...   \n85                                                NaN   \n86                                                NaN   \n87                                                NaN   \n88                                                NaN   \n89                                                NaN   \n\n                                                 QID6  \\\n0   Given the Premise, is the Hypothesis definitel...   \n1                                 {\"ImportId\":\"QID6\"}   \n2                                                 NaN   \n3                                                 NaN   \n4                                                 NaN   \n..                                                ...   \n85                                                NaN   \n86                                                NaN   \n87                                                NaN   \n88                                                NaN   \n89                                                NaN   \n\n                                                 QID7  \\\n0   Given the Premise, is the Hypothesis definitel...   \n1                                 {\"ImportId\":\"QID7\"}   \n2                                                 NaN   \n3                                                 NaN   \n4                                                 NaN   \n..                                                ...   \n85                                                NaN   \n86                                                NaN   \n87                                                NaN   \n88                                                NaN   \n89                                                NaN   \n\n                                                 QID8  \\\n0   Given the Premise, is the Hypothesis definitel...   \n1                                 {\"ImportId\":\"QID8\"}   \n2                                                 NaN   \n3                                                 NaN   \n4                                                 NaN   \n..                                                ...   \n85                                                NaN   \n86                                                NaN   \n87                                                NaN   \n88                                                NaN   \n89                                                NaN   \n\n                                                 QID9  \\\n0   Given the Premise, is the Hypothesis definitel...   \n1                                 {\"ImportId\":\"QID9\"}   \n2                                                 NaN   \n3                                                 NaN   \n4                                                 NaN   \n..                                                ...   \n85                                                NaN   \n86                                                NaN   \n87                                                NaN   \n88                                 definitely correct   \n89                                                NaN   \n\n                                                QID10  \\\n0   Given the Premise, is the Hypothesis definitel...   \n1                                {\"ImportId\":\"QID10\"}   \n2                                                 NaN   \n3                                                 NaN   \n4                                                 NaN   \n..                                                ...   \n85                                                NaN   \n86  neither definitely correct nor definitely inco...   \n87                                                NaN   \n88                                                NaN   \n89                                                NaN   \n\n                                                QID11  ...  \\\n0   Given the Premise, is the Hypothesis definitel...  ...   \n1                                {\"ImportId\":\"QID11\"}  ...   \n2                                                 NaN  ...   \n3                                                 NaN  ...   \n4                                                 NaN  ...   \n..                                                ...  ...   \n85                                                NaN  ...   \n86                                                NaN  ...   \n87                                                NaN  ...   \n88                                                NaN  ...   \n89                                                NaN  ...   \n\n                                               QID298  \\\n0   Given the Premise, is the Hypothesis definitel...   \n1                               {\"ImportId\":\"QID298\"}   \n2                                                 NaN   \n3                                                 NaN   \n4                                                 NaN   \n..                                                ...   \n85                                                NaN   \n86                                                NaN   \n87                                                NaN   \n88                                                NaN   \n89                                                NaN   \n\n                                               QID299  \\\n0   Given the Premise, is the Hypothesis definitel...   \n1                               {\"ImportId\":\"QID299\"}   \n2                                                 NaN   \n3                                                 NaN   \n4                                                 NaN   \n..                                                ...   \n85                                                NaN   \n86                                                NaN   \n87                                                NaN   \n88                                                NaN   \n89                                 definitely correct   \n\n                                               QID300  \\\n0   Given the Premise, is the Hypothesis definitel...   \n1                               {\"ImportId\":\"QID300\"}   \n2                                                 NaN   \n3                                                 NaN   \n4                                                 NaN   \n..                                                ...   \n85                                                NaN   \n86                                                NaN   \n87                                                NaN   \n88                                                NaN   \n89                                                NaN   \n\n                                                 Q308  \\\n0   Given the Premise, is the Hypothesis definitel...   \n1                               {\"ImportId\":\"QID308\"}   \n2                                                 NaN   \n3                                definitely incorrect   \n4                                                 NaN   \n..                                                ...   \n85                               definitely incorrect   \n86                                                NaN   \n87                                 definitely correct   \n88                                                NaN   \n89                                                NaN   \n\n                                                 Q309  \\\n0   Given the Premise, is the Hypothesis definitel...   \n1                               {\"ImportId\":\"QID309\"}   \n2   neither definitely correct nor definitely inco...   \n3                                                 NaN   \n4                                                 NaN   \n..                                                ...   \n85                                                NaN   \n86                                                NaN   \n87                                                NaN   \n88  neither definitely correct nor definitely inco...   \n89  neither definitely correct nor definitely inco...   \n\n                                                 Q310  \\\n0   Given the Premise, is the Hypothesis definitel...   \n1                               {\"ImportId\":\"QID310\"}   \n2                                                 NaN   \n3                                                 NaN   \n4                                                 NaN   \n..                                                ...   \n85                                                NaN   \n86                                                NaN   \n87                                                NaN   \n88                                                NaN   \n89                                                NaN   \n\n                                                 Q311  \\\n0   Given the Premise, is the Hypothesis definitel...   \n1                               {\"ImportId\":\"QID311\"}   \n2                                                 NaN   \n3                                                 NaN   \n4                                                 NaN   \n..                                                ...   \n85                                                NaN   \n86                                                NaN   \n87                                                NaN   \n88                                                NaN   \n89                                                NaN   \n\n                                                 Q312  \\\n0   Given the Premise, is the Hypothesis definitel...   \n1                               {\"ImportId\":\"QID312\"}   \n2                                                 NaN   \n3                                                 NaN   \n4                                                 NaN   \n..                                                ...   \n85                                                NaN   \n86                                                NaN   \n87                                                NaN   \n88                                                NaN   \n89                                                NaN   \n\n                                                 Q313  \\\n0   Given the Premise, is the Hypothesis definitel...   \n1                               {\"ImportId\":\"QID313\"}   \n2                                                 NaN   \n3                                                 NaN   \n4                                                 NaN   \n..                                                ...   \n85                                                NaN   \n86                                 definitely correct   \n87                                                NaN   \n88                                                NaN   \n89                                                NaN   \n\n                    RandomId  \n0                  Random ID  \n1   {\"ImportId\":\"Random ID\"}  \n2             61445326288230  \n3             35876488802023  \n4             38444590615108  \n..                       ...  \n85            12559431069530  \n86            21957201068289  \n87            94022159604355  \n88            89232312422245  \n89             7078240392729  \n\n[90 rows x 312 columns]",
      "text/html": "<div>\n<style scoped>\n    .dataframe tbody tr th:only-of-type {\n        vertical-align: middle;\n    }\n\n    .dataframe tbody tr th {\n        vertical-align: top;\n    }\n\n    .dataframe thead th {\n        text-align: right;\n    }\n</style>\n<table border=\"1\" class=\"dataframe\">\n  <thead>\n    <tr style=\"text-align: right;\">\n      <th></th>\n      <th>QID2</th>\n      <th>QID3</th>\n      <th>QID4</th>\n      <th>QID5</th>\n      <th>QID6</th>\n      <th>QID7</th>\n      <th>QID8</th>\n      <th>QID9</th>\n      <th>QID10</th>\n      <th>QID11</th>\n      <th>...</th>\n      <th>QID298</th>\n      <th>QID299</th>\n      <th>QID300</th>\n      <th>Q308</th>\n      <th>Q309</th>\n      <th>Q310</th>\n      <th>Q311</th>\n      <th>Q312</th>\n      <th>Q313</th>\n      <th>RandomId</th>\n    </tr>\n  </thead>\n  <tbody>\n    <tr>\n      <th>0</th>\n      <td>Given the Premise, is the Hypothesis definitel...</td>\n      <td>Given the Premise, is the Hypothesis definitel...</td>\n      <td>Given the Premise, is the Hypothesis definitel...</td>\n      <td>Given the Premise, is the Hypothesis definitel...</td>\n      <td>Given the Premise, is the Hypothesis definitel...</td>\n      <td>Given the Premise, is the Hypothesis definitel...</td>\n      <td>Given the Premise, is the Hypothesis definitel...</td>\n      <td>Given the Premise, is the Hypothesis definitel...</td>\n      <td>Given the Premise, is the Hypothesis definitel...</td>\n      <td>Given the Premise, is the Hypothesis definitel...</td>\n      <td>...</td>\n      <td>Given the Premise, is the Hypothesis definitel...</td>\n      <td>Given the Premise, is the Hypothesis definitel...</td>\n      <td>Given the Premise, is the Hypothesis definitel...</td>\n      <td>Given the Premise, is the Hypothesis definitel...</td>\n      <td>Given the Premise, is the Hypothesis definitel...</td>\n      <td>Given the Premise, is the Hypothesis definitel...</td>\n      <td>Given the Premise, is the Hypothesis definitel...</td>\n      <td>Given the Premise, is the Hypothesis definitel...</td>\n      <td>Given the Premise, is the Hypothesis definitel...</td>\n      <td>Random ID</td>\n    </tr>\n    <tr>\n      <th>1</th>\n      <td>{\"ImportId\":\"QID2\"}</td>\n      <td>{\"ImportId\":\"QID3\"}</td>\n      <td>{\"ImportId\":\"QID4\"}</td>\n      <td>{\"ImportId\":\"QID5\"}</td>\n      <td>{\"ImportId\":\"QID6\"}</td>\n      <td>{\"ImportId\":\"QID7\"}</td>\n      <td>{\"ImportId\":\"QID8\"}</td>\n      <td>{\"ImportId\":\"QID9\"}</td>\n      <td>{\"ImportId\":\"QID10\"}</td>\n      <td>{\"ImportId\":\"QID11\"}</td>\n      <td>...</td>\n      <td>{\"ImportId\":\"QID298\"}</td>\n      <td>{\"ImportId\":\"QID299\"}</td>\n      <td>{\"ImportId\":\"QID300\"}</td>\n      <td>{\"ImportId\":\"QID308\"}</td>\n      <td>{\"ImportId\":\"QID309\"}</td>\n      <td>{\"ImportId\":\"QID310\"}</td>\n      <td>{\"ImportId\":\"QID311\"}</td>\n      <td>{\"ImportId\":\"QID312\"}</td>\n      <td>{\"ImportId\":\"QID313\"}</td>\n      <td>{\"ImportId\":\"Random ID\"}</td>\n    </tr>\n    <tr>\n      <th>2</th>\n      <td>NaN</td>\n      <td>NaN</td>\n      <td>NaN</td>\n      <td>NaN</td>\n      <td>NaN</td>\n      <td>NaN</td>\n      <td>NaN</td>\n      <td>NaN</td>\n      <td>NaN</td>\n      <td>NaN</td>\n      <td>...</td>\n      <td>NaN</td>\n      <td>NaN</td>\n      <td>NaN</td>\n      <td>NaN</td>\n      <td>neither definitely correct nor definitely inco...</td>\n      <td>NaN</td>\n      <td>NaN</td>\n      <td>NaN</td>\n      <td>NaN</td>\n      <td>61445326288230</td>\n    </tr>\n    <tr>\n      <th>3</th>\n      <td>NaN</td>\n      <td>NaN</td>\n      <td>NaN</td>\n      <td>NaN</td>\n      <td>NaN</td>\n      <td>NaN</td>\n      <td>NaN</td>\n      <td>NaN</td>\n      <td>NaN</td>\n      <td>NaN</td>\n      <td>...</td>\n      <td>NaN</td>\n      <td>NaN</td>\n      <td>NaN</td>\n      <td>definitely incorrect</td>\n      <td>NaN</td>\n      <td>NaN</td>\n      <td>NaN</td>\n      <td>NaN</td>\n      <td>NaN</td>\n      <td>35876488802023</td>\n    </tr>\n    <tr>\n      <th>4</th>\n      <td>NaN</td>\n      <td>NaN</td>\n      <td>NaN</td>\n      <td>NaN</td>\n      <td>NaN</td>\n      <td>NaN</td>\n      <td>NaN</td>\n      <td>NaN</td>\n      <td>NaN</td>\n      <td>NaN</td>\n      <td>...</td>\n      <td>NaN</td>\n      <td>NaN</td>\n      <td>NaN</td>\n      <td>NaN</td>\n      <td>NaN</td>\n      <td>NaN</td>\n      <td>NaN</td>\n      <td>NaN</td>\n      <td>NaN</td>\n      <td>38444590615108</td>\n    </tr>\n    <tr>\n      <th>...</th>\n      <td>...</td>\n      <td>...</td>\n      <td>...</td>\n      <td>...</td>\n      <td>...</td>\n      <td>...</td>\n      <td>...</td>\n      <td>...</td>\n      <td>...</td>\n      <td>...</td>\n      <td>...</td>\n      <td>...</td>\n      <td>...</td>\n      <td>...</td>\n      <td>...</td>\n      <td>...</td>\n      <td>...</td>\n      <td>...</td>\n      <td>...</td>\n      <td>...</td>\n      <td>...</td>\n    </tr>\n    <tr>\n      <th>85</th>\n      <td>NaN</td>\n      <td>NaN</td>\n      <td>NaN</td>\n      <td>NaN</td>\n      <td>NaN</td>\n      <td>NaN</td>\n      <td>NaN</td>\n      <td>NaN</td>\n      <td>NaN</td>\n      <td>NaN</td>\n      <td>...</td>\n      <td>NaN</td>\n      <td>NaN</td>\n      <td>NaN</td>\n      <td>definitely incorrect</td>\n      <td>NaN</td>\n      <td>NaN</td>\n      <td>NaN</td>\n      <td>NaN</td>\n      <td>NaN</td>\n      <td>12559431069530</td>\n    </tr>\n    <tr>\n      <th>86</th>\n      <td>NaN</td>\n      <td>NaN</td>\n      <td>NaN</td>\n      <td>NaN</td>\n      <td>NaN</td>\n      <td>NaN</td>\n      <td>NaN</td>\n      <td>NaN</td>\n      <td>neither definitely correct nor definitely inco...</td>\n      <td>NaN</td>\n      <td>...</td>\n      <td>NaN</td>\n      <td>NaN</td>\n      <td>NaN</td>\n      <td>NaN</td>\n      <td>NaN</td>\n      <td>NaN</td>\n      <td>NaN</td>\n      <td>NaN</td>\n      <td>definitely correct</td>\n      <td>21957201068289</td>\n    </tr>\n    <tr>\n      <th>87</th>\n      <td>NaN</td>\n      <td>NaN</td>\n      <td>NaN</td>\n      <td>NaN</td>\n      <td>NaN</td>\n      <td>NaN</td>\n      <td>NaN</td>\n      <td>NaN</td>\n      <td>NaN</td>\n      <td>NaN</td>\n      <td>...</td>\n      <td>NaN</td>\n      <td>NaN</td>\n      <td>NaN</td>\n      <td>definitely correct</td>\n      <td>NaN</td>\n      <td>NaN</td>\n      <td>NaN</td>\n      <td>NaN</td>\n      <td>NaN</td>\n      <td>94022159604355</td>\n    </tr>\n    <tr>\n      <th>88</th>\n      <td>neither definitely correct nor definitely inco...</td>\n      <td>NaN</td>\n      <td>NaN</td>\n      <td>NaN</td>\n      <td>NaN</td>\n      <td>NaN</td>\n      <td>NaN</td>\n      <td>definitely correct</td>\n      <td>NaN</td>\n      <td>NaN</td>\n      <td>...</td>\n      <td>NaN</td>\n      <td>NaN</td>\n      <td>NaN</td>\n      <td>NaN</td>\n      <td>neither definitely correct nor definitely inco...</td>\n      <td>NaN</td>\n      <td>NaN</td>\n      <td>NaN</td>\n      <td>NaN</td>\n      <td>89232312422245</td>\n    </tr>\n    <tr>\n      <th>89</th>\n      <td>NaN</td>\n      <td>NaN</td>\n      <td>NaN</td>\n      <td>NaN</td>\n      <td>NaN</td>\n      <td>NaN</td>\n      <td>NaN</td>\n      <td>NaN</td>\n      <td>NaN</td>\n      <td>NaN</td>\n      <td>...</td>\n      <td>NaN</td>\n      <td>definitely correct</td>\n      <td>NaN</td>\n      <td>NaN</td>\n      <td>neither definitely correct nor definitely inco...</td>\n      <td>NaN</td>\n      <td>NaN</td>\n      <td>NaN</td>\n      <td>NaN</td>\n      <td>7078240392729</td>\n    </tr>\n  </tbody>\n</table>\n<p>90 rows × 312 columns</p>\n</div>"
     },
     "metadata": {},
     "execution_count": 38
    }
   ],
   "source": [
    "response_questions"
   ]
  },
  {
   "cell_type": "code",
   "execution_count": 121,
   "metadata": {
    "tags": []
   },
   "outputs": [
    {
     "output_type": "stream",
     "name": "stdout",
     "text": "[0, 1, 3, 4, 6, 7, 9, 10, 13, 16, 18, 19, 20, 22, 25, 28, 29, 31, 32, 33, 34, 35, 36, 38, 40, 41, 42, 43, 45, 46, 47, 49, 51, 52, 53, 55, 56, 57, 58, 59, 61, 68, 69, 70, 73, 74, 75, 76, 80, 81, 84, 86, 87]\n"
    },
    {
     "output_type": "execute_result",
     "data": {
      "text/plain": "                                                 QID2 QID3  \\\n2                                                 NaN  NaN   \n5                                                 NaN  NaN   \n8                                                 NaN  NaN   \n11                                                NaN  NaN   \n12                                                NaN  NaN   \n14                                                NaN  NaN   \n15                                                NaN  NaN   \n17                                                NaN  NaN   \n21                                                NaN  NaN   \n23                                                NaN  NaN   \n24                                                NaN  NaN   \n26                                                NaN  NaN   \n27                                                NaN  NaN   \n30                                                NaN  NaN   \n37                                                NaN  NaN   \n39                                                NaN  NaN   \n44                                                NaN  NaN   \n48                                                NaN  NaN   \n50                                                NaN  NaN   \n54                                                NaN  NaN   \n60                                                NaN  NaN   \n62                                                NaN  NaN   \n63                                                NaN  NaN   \n64                                                NaN  NaN   \n65                                                NaN  NaN   \n66                                                NaN  NaN   \n67                                                NaN  NaN   \n71                                                NaN  NaN   \n72                                                NaN  NaN   \n77                                                NaN  NaN   \n78                                                NaN  NaN   \n79                                                NaN  NaN   \n82                                                NaN  NaN   \n83                                                NaN  NaN   \n85                                                NaN  NaN   \n88  neither definitely correct nor definitely inco...  NaN   \n89                                                NaN  NaN   \n\n                  QID4                QID5                  QID6  \\\n2                  NaN                 NaN                   NaN   \n5                  NaN                 NaN                   NaN   \n8                  NaN                 NaN                   NaN   \n11                 NaN                 NaN                   NaN   \n12                 NaN                 NaN                   NaN   \n14                 NaN                 NaN                   NaN   \n15                 NaN                 NaN                   NaN   \n17                 NaN                 NaN                   NaN   \n21  definitely correct                 NaN                   NaN   \n23                 NaN                 NaN                   NaN   \n24                 NaN                 NaN                   NaN   \n26                 NaN                 NaN                   NaN   \n27                 NaN                 NaN                   NaN   \n30                 NaN                 NaN                   NaN   \n37  definitely correct                 NaN                   NaN   \n39                 NaN                 NaN                   NaN   \n44                 NaN                 NaN                   NaN   \n48                 NaN  definitely correct                   NaN   \n50                 NaN                 NaN                   NaN   \n54                 NaN                 NaN                   NaN   \n60                 NaN                 NaN                   NaN   \n62                 NaN                 NaN                   NaN   \n63                 NaN                 NaN                   NaN   \n64                 NaN                 NaN                   NaN   \n65                 NaN                 NaN                   NaN   \n66                 NaN                 NaN                   NaN   \n67                 NaN                 NaN                   NaN   \n71                 NaN                 NaN                   NaN   \n72                 NaN                 NaN                   NaN   \n77                 NaN                 NaN                   NaN   \n78                 NaN                 NaN  definitely incorrect   \n79                 NaN                 NaN                   NaN   \n82                 NaN                 NaN                   NaN   \n83                 NaN                 NaN                   NaN   \n85                 NaN                 NaN                   NaN   \n88                 NaN                 NaN                   NaN   \n89                 NaN                 NaN                   NaN   \n\n                  QID7 QID8                QID9                 QID10 QID11  \\\n2                  NaN  NaN                 NaN                   NaN   NaN   \n5                  NaN  NaN  definitely correct  definitely incorrect   NaN   \n8                  NaN  NaN                 NaN                   NaN   NaN   \n11                 NaN  NaN                 NaN                   NaN   NaN   \n12                 NaN  NaN                 NaN                   NaN   NaN   \n14                 NaN  NaN                 NaN                   NaN   NaN   \n15                 NaN  NaN                 NaN                   NaN   NaN   \n17                 NaN  NaN                 NaN                   NaN   NaN   \n21                 NaN  NaN                 NaN                   NaN   NaN   \n23                 NaN  NaN                 NaN                   NaN   NaN   \n24                 NaN  NaN                 NaN                   NaN   NaN   \n26                 NaN  NaN                 NaN                   NaN   NaN   \n27  definitely correct  NaN                 NaN                   NaN   NaN   \n30                 NaN  NaN                 NaN                   NaN   NaN   \n37                 NaN  NaN                 NaN                   NaN   NaN   \n39                 NaN  NaN                 NaN                   NaN   NaN   \n44                 NaN  NaN                 NaN                   NaN   NaN   \n48                 NaN  NaN                 NaN                   NaN   NaN   \n50                 NaN  NaN                 NaN                   NaN   NaN   \n54                 NaN  NaN                 NaN                   NaN   NaN   \n60                 NaN  NaN                 NaN                   NaN   NaN   \n62                 NaN  NaN                 NaN                   NaN   NaN   \n63                 NaN  NaN  definitely correct                   NaN   NaN   \n64                 NaN  NaN                 NaN                   NaN   NaN   \n65                 NaN  NaN                 NaN                   NaN   NaN   \n66                 NaN  NaN                 NaN                   NaN   NaN   \n67                 NaN  NaN                 NaN                   NaN   NaN   \n71                 NaN  NaN                 NaN                   NaN   NaN   \n72                 NaN  NaN                 NaN                   NaN   NaN   \n77                 NaN  NaN                 NaN                   NaN   NaN   \n78                 NaN  NaN                 NaN                   NaN   NaN   \n79                 NaN  NaN                 NaN                   NaN   NaN   \n82                 NaN  NaN                 NaN                   NaN   NaN   \n83                 NaN  NaN                 NaN                   NaN   NaN   \n85                 NaN  NaN                 NaN                   NaN   NaN   \n88                 NaN  NaN  definitely correct                   NaN   NaN   \n89                 NaN  NaN                 NaN                   NaN   NaN   \n\n    ... QID298              QID299              QID300                  Q308  \\\n2   ...    NaN                 NaN                 NaN                   NaN   \n5   ...    NaN                 NaN                 NaN                   NaN   \n8   ...    NaN                 NaN                 NaN                   NaN   \n11  ...    NaN                 NaN                 NaN                   NaN   \n12  ...    NaN                 NaN                 NaN                   NaN   \n14  ...    NaN                 NaN                 NaN                   NaN   \n15  ...    NaN                 NaN                 NaN                   NaN   \n17  ...    NaN                 NaN                 NaN                   NaN   \n21  ...    NaN                 NaN                 NaN                   NaN   \n23  ...    NaN                 NaN                 NaN                   NaN   \n24  ...    NaN                 NaN                 NaN                   NaN   \n26  ...    NaN                 NaN                 NaN                   NaN   \n27  ...    NaN                 NaN                 NaN                   NaN   \n30  ...    NaN                 NaN                 NaN                   NaN   \n37  ...    NaN                 NaN                 NaN                   NaN   \n39  ...    NaN                 NaN                 NaN                   NaN   \n44  ...    NaN                 NaN                 NaN  definitely incorrect   \n48  ...    NaN                 NaN                 NaN                   NaN   \n50  ...    NaN                 NaN  definitely correct                   NaN   \n54  ...    NaN                 NaN                 NaN  definitely incorrect   \n60  ...    NaN                 NaN                 NaN                   NaN   \n62  ...    NaN                 NaN                 NaN                   NaN   \n63  ...    NaN                 NaN                 NaN                   NaN   \n64  ...    NaN                 NaN                 NaN                   NaN   \n65  ...    NaN                 NaN                 NaN                   NaN   \n66  ...    NaN                 NaN                 NaN                   NaN   \n67  ...    NaN                 NaN                 NaN                   NaN   \n71  ...    NaN                 NaN                 NaN                   NaN   \n72  ...    NaN                 NaN                 NaN                   NaN   \n77  ...    NaN                 NaN                 NaN                   NaN   \n78  ...    NaN                 NaN                 NaN  definitely incorrect   \n79  ...    NaN                 NaN                 NaN  definitely incorrect   \n82  ...    NaN                 NaN                 NaN                   NaN   \n83  ...    NaN                 NaN                 NaN                   NaN   \n85  ...    NaN                 NaN                 NaN  definitely incorrect   \n88  ...    NaN                 NaN                 NaN                   NaN   \n89  ...    NaN  definitely correct                 NaN                   NaN   \n\n                                                 Q309                Q310  \\\n2   neither definitely correct nor definitely inco...                 NaN   \n5                                                 NaN                 NaN   \n8                                                 NaN                 NaN   \n11  neither definitely correct nor definitely inco...                 NaN   \n12                                                NaN                 NaN   \n14                                                NaN  definitely correct   \n15  neither definitely correct nor definitely inco...                 NaN   \n17  neither definitely correct nor definitely inco...                 NaN   \n21                                                NaN                 NaN   \n23                                                NaN  definitely correct   \n24                                                NaN  definitely correct   \n26                                                NaN                 NaN   \n27                                                NaN                 NaN   \n30                                                NaN                 NaN   \n37                                                NaN                 NaN   \n39                                                NaN                 NaN   \n44                                                NaN                 NaN   \n48  neither definitely correct nor definitely inco...                 NaN   \n50                                                NaN                 NaN   \n54                                                NaN                 NaN   \n60                                                NaN                 NaN   \n62                                                NaN  definitely correct   \n63                                                NaN                 NaN   \n64                                                NaN                 NaN   \n65                                                NaN                 NaN   \n66                                                NaN                 NaN   \n67                                                NaN  definitely correct   \n71                                                NaN                 NaN   \n72                                                NaN                 NaN   \n77                                                NaN                 NaN   \n78                                                NaN                 NaN   \n79                                                NaN                 NaN   \n82                                                NaN                 NaN   \n83  neither definitely correct nor definitely inco...                 NaN   \n85                                                NaN                 NaN   \n88  neither definitely correct nor definitely inco...                 NaN   \n89  neither definitely correct nor definitely inco...                 NaN   \n\n                                                 Q311                  Q312  \\\n2                                                 NaN                   NaN   \n5   neither definitely correct nor definitely inco...                   NaN   \n8   neither definitely correct nor definitely inco...                   NaN   \n11                                                NaN                   NaN   \n12                                                NaN  definitely incorrect   \n14                                                NaN                   NaN   \n15                                                NaN                   NaN   \n17                                                NaN                   NaN   \n21                                                NaN                   NaN   \n23                                                NaN                   NaN   \n24                                                NaN                   NaN   \n26                                                NaN  definitely incorrect   \n27                                                NaN  definitely incorrect   \n30                                                NaN  definitely incorrect   \n37                                                NaN                   NaN   \n39                                                NaN                   NaN   \n44                                                NaN                   NaN   \n48                                                NaN                   NaN   \n50                                                NaN                   NaN   \n54                                                NaN                   NaN   \n60                                                NaN                   NaN   \n62                                                NaN                   NaN   \n63  neither definitely correct nor definitely inco...                   NaN   \n64                                                NaN                   NaN   \n65                                                NaN                   NaN   \n66                                                NaN  definitely incorrect   \n67                                                NaN                   NaN   \n71                                                NaN                   NaN   \n72                                                NaN  definitely incorrect   \n77  neither definitely correct nor definitely inco...                   NaN   \n78                                                NaN                   NaN   \n79                                                NaN                   NaN   \n82                                                NaN                   NaN   \n83                                                NaN                   NaN   \n85                                                NaN                   NaN   \n88                                                NaN                   NaN   \n89                                                NaN                   NaN   \n\n                  Q313        RandomId  \n2                  NaN  61445326288230  \n5                  NaN   5918052908964  \n8                  NaN  85769710945896  \n11                 NaN  23467815760523  \n12                 NaN  59494899632409  \n14                 NaN  58872996177524  \n15                 NaN  43165576714091  \n17                 NaN  68321020714938  \n21  definitely correct  92963079409673  \n23                 NaN  90455432306043  \n24                 NaN  57974082743749  \n26                 NaN  94496444007381  \n27                 NaN  95626433915458  \n30                 NaN   6383683509193  \n37  definitely correct  69377727154642  \n39  definitely correct   2982167620211  \n44                 NaN  13732979469932  \n48                 NaN   3813853557221  \n50  definitely correct  48222230374813  \n54                 NaN  18138183839619  \n60  definitely correct  78198984265327  \n62                 NaN  37883877265267  \n63                 NaN   8198794443160  \n64  definitely correct  95119172590784  \n65  definitely correct  95733413449488  \n66                 NaN  25947750336490  \n67                 NaN  37273650430142  \n71  definitely correct  69503748207353  \n72                 NaN  13361342321150  \n77                 NaN  46358098718337  \n78                 NaN  81421692809090  \n79                 NaN  53600934171117  \n82  definitely correct  80719325295649  \n83                 NaN  29851378197781  \n85                 NaN  12559431069530  \n88                 NaN  89232312422245  \n89                 NaN   7078240392729  \n\n[37 rows x 312 columns]",
      "text/html": "<div>\n<style scoped>\n    .dataframe tbody tr th:only-of-type {\n        vertical-align: middle;\n    }\n\n    .dataframe tbody tr th {\n        vertical-align: top;\n    }\n\n    .dataframe thead th {\n        text-align: right;\n    }\n</style>\n<table border=\"1\" class=\"dataframe\">\n  <thead>\n    <tr style=\"text-align: right;\">\n      <th></th>\n      <th>QID2</th>\n      <th>QID3</th>\n      <th>QID4</th>\n      <th>QID5</th>\n      <th>QID6</th>\n      <th>QID7</th>\n      <th>QID8</th>\n      <th>QID9</th>\n      <th>QID10</th>\n      <th>QID11</th>\n      <th>...</th>\n      <th>QID298</th>\n      <th>QID299</th>\n      <th>QID300</th>\n      <th>Q308</th>\n      <th>Q309</th>\n      <th>Q310</th>\n      <th>Q311</th>\n      <th>Q312</th>\n      <th>Q313</th>\n      <th>RandomId</th>\n    </tr>\n  </thead>\n  <tbody>\n    <tr>\n      <th>2</th>\n      <td>NaN</td>\n      <td>NaN</td>\n      <td>NaN</td>\n      <td>NaN</td>\n      <td>NaN</td>\n      <td>NaN</td>\n      <td>NaN</td>\n      <td>NaN</td>\n      <td>NaN</td>\n      <td>NaN</td>\n      <td>...</td>\n      <td>NaN</td>\n      <td>NaN</td>\n      <td>NaN</td>\n      <td>NaN</td>\n      <td>neither definitely correct nor definitely inco...</td>\n      <td>NaN</td>\n      <td>NaN</td>\n      <td>NaN</td>\n      <td>NaN</td>\n      <td>61445326288230</td>\n    </tr>\n    <tr>\n      <th>5</th>\n      <td>NaN</td>\n      <td>NaN</td>\n      <td>NaN</td>\n      <td>NaN</td>\n      <td>NaN</td>\n      <td>NaN</td>\n      <td>NaN</td>\n      <td>definitely correct</td>\n      <td>definitely incorrect</td>\n      <td>NaN</td>\n      <td>...</td>\n      <td>NaN</td>\n      <td>NaN</td>\n      <td>NaN</td>\n      <td>NaN</td>\n      <td>NaN</td>\n      <td>NaN</td>\n      <td>neither definitely correct nor definitely inco...</td>\n      <td>NaN</td>\n      <td>NaN</td>\n      <td>5918052908964</td>\n    </tr>\n    <tr>\n      <th>8</th>\n      <td>NaN</td>\n      <td>NaN</td>\n      <td>NaN</td>\n      <td>NaN</td>\n      <td>NaN</td>\n      <td>NaN</td>\n      <td>NaN</td>\n      <td>NaN</td>\n      <td>NaN</td>\n      <td>NaN</td>\n      <td>...</td>\n      <td>NaN</td>\n      <td>NaN</td>\n      <td>NaN</td>\n      <td>NaN</td>\n      <td>NaN</td>\n      <td>NaN</td>\n      <td>neither definitely correct nor definitely inco...</td>\n      <td>NaN</td>\n      <td>NaN</td>\n      <td>85769710945896</td>\n    </tr>\n    <tr>\n      <th>11</th>\n      <td>NaN</td>\n      <td>NaN</td>\n      <td>NaN</td>\n      <td>NaN</td>\n      <td>NaN</td>\n      <td>NaN</td>\n      <td>NaN</td>\n      <td>NaN</td>\n      <td>NaN</td>\n      <td>NaN</td>\n      <td>...</td>\n      <td>NaN</td>\n      <td>NaN</td>\n      <td>NaN</td>\n      <td>NaN</td>\n      <td>neither definitely correct nor definitely inco...</td>\n      <td>NaN</td>\n      <td>NaN</td>\n      <td>NaN</td>\n      <td>NaN</td>\n      <td>23467815760523</td>\n    </tr>\n    <tr>\n      <th>12</th>\n      <td>NaN</td>\n      <td>NaN</td>\n      <td>NaN</td>\n      <td>NaN</td>\n      <td>NaN</td>\n      <td>NaN</td>\n      <td>NaN</td>\n      <td>NaN</td>\n      <td>NaN</td>\n      <td>NaN</td>\n      <td>...</td>\n      <td>NaN</td>\n      <td>NaN</td>\n      <td>NaN</td>\n      <td>NaN</td>\n      <td>NaN</td>\n      <td>NaN</td>\n      <td>NaN</td>\n      <td>definitely incorrect</td>\n      <td>NaN</td>\n      <td>59494899632409</td>\n    </tr>\n    <tr>\n      <th>14</th>\n      <td>NaN</td>\n      <td>NaN</td>\n      <td>NaN</td>\n      <td>NaN</td>\n      <td>NaN</td>\n      <td>NaN</td>\n      <td>NaN</td>\n      <td>NaN</td>\n      <td>NaN</td>\n      <td>NaN</td>\n      <td>...</td>\n      <td>NaN</td>\n      <td>NaN</td>\n      <td>NaN</td>\n      <td>NaN</td>\n      <td>NaN</td>\n      <td>definitely correct</td>\n      <td>NaN</td>\n      <td>NaN</td>\n      <td>NaN</td>\n      <td>58872996177524</td>\n    </tr>\n    <tr>\n      <th>15</th>\n      <td>NaN</td>\n      <td>NaN</td>\n      <td>NaN</td>\n      <td>NaN</td>\n      <td>NaN</td>\n      <td>NaN</td>\n      <td>NaN</td>\n      <td>NaN</td>\n      <td>NaN</td>\n      <td>NaN</td>\n      <td>...</td>\n      <td>NaN</td>\n      <td>NaN</td>\n      <td>NaN</td>\n      <td>NaN</td>\n      <td>neither definitely correct nor definitely inco...</td>\n      <td>NaN</td>\n      <td>NaN</td>\n      <td>NaN</td>\n      <td>NaN</td>\n      <td>43165576714091</td>\n    </tr>\n    <tr>\n      <th>17</th>\n      <td>NaN</td>\n      <td>NaN</td>\n      <td>NaN</td>\n      <td>NaN</td>\n      <td>NaN</td>\n      <td>NaN</td>\n      <td>NaN</td>\n      <td>NaN</td>\n      <td>NaN</td>\n      <td>NaN</td>\n      <td>...</td>\n      <td>NaN</td>\n      <td>NaN</td>\n      <td>NaN</td>\n      <td>NaN</td>\n      <td>neither definitely correct nor definitely inco...</td>\n      <td>NaN</td>\n      <td>NaN</td>\n      <td>NaN</td>\n      <td>NaN</td>\n      <td>68321020714938</td>\n    </tr>\n    <tr>\n      <th>21</th>\n      <td>NaN</td>\n      <td>NaN</td>\n      <td>definitely correct</td>\n      <td>NaN</td>\n      <td>NaN</td>\n      <td>NaN</td>\n      <td>NaN</td>\n      <td>NaN</td>\n      <td>NaN</td>\n      <td>NaN</td>\n      <td>...</td>\n      <td>NaN</td>\n      <td>NaN</td>\n      <td>NaN</td>\n      <td>NaN</td>\n      <td>NaN</td>\n      <td>NaN</td>\n      <td>NaN</td>\n      <td>NaN</td>\n      <td>definitely correct</td>\n      <td>92963079409673</td>\n    </tr>\n    <tr>\n      <th>23</th>\n      <td>NaN</td>\n      <td>NaN</td>\n      <td>NaN</td>\n      <td>NaN</td>\n      <td>NaN</td>\n      <td>NaN</td>\n      <td>NaN</td>\n      <td>NaN</td>\n      <td>NaN</td>\n      <td>NaN</td>\n      <td>...</td>\n      <td>NaN</td>\n      <td>NaN</td>\n      <td>NaN</td>\n      <td>NaN</td>\n      <td>NaN</td>\n      <td>definitely correct</td>\n      <td>NaN</td>\n      <td>NaN</td>\n      <td>NaN</td>\n      <td>90455432306043</td>\n    </tr>\n    <tr>\n      <th>24</th>\n      <td>NaN</td>\n      <td>NaN</td>\n      <td>NaN</td>\n      <td>NaN</td>\n      <td>NaN</td>\n      <td>NaN</td>\n      <td>NaN</td>\n      <td>NaN</td>\n      <td>NaN</td>\n      <td>NaN</td>\n      <td>...</td>\n      <td>NaN</td>\n      <td>NaN</td>\n      <td>NaN</td>\n      <td>NaN</td>\n      <td>NaN</td>\n      <td>definitely correct</td>\n      <td>NaN</td>\n      <td>NaN</td>\n      <td>NaN</td>\n      <td>57974082743749</td>\n    </tr>\n    <tr>\n      <th>26</th>\n      <td>NaN</td>\n      <td>NaN</td>\n      <td>NaN</td>\n      <td>NaN</td>\n      <td>NaN</td>\n      <td>NaN</td>\n      <td>NaN</td>\n      <td>NaN</td>\n      <td>NaN</td>\n      <td>NaN</td>\n      <td>...</td>\n      <td>NaN</td>\n      <td>NaN</td>\n      <td>NaN</td>\n      <td>NaN</td>\n      <td>NaN</td>\n      <td>NaN</td>\n      <td>NaN</td>\n      <td>definitely incorrect</td>\n      <td>NaN</td>\n      <td>94496444007381</td>\n    </tr>\n    <tr>\n      <th>27</th>\n      <td>NaN</td>\n      <td>NaN</td>\n      <td>NaN</td>\n      <td>NaN</td>\n      <td>NaN</td>\n      <td>definitely correct</td>\n      <td>NaN</td>\n      <td>NaN</td>\n      <td>NaN</td>\n      <td>NaN</td>\n      <td>...</td>\n      <td>NaN</td>\n      <td>NaN</td>\n      <td>NaN</td>\n      <td>NaN</td>\n      <td>NaN</td>\n      <td>NaN</td>\n      <td>NaN</td>\n      <td>definitely incorrect</td>\n      <td>NaN</td>\n      <td>95626433915458</td>\n    </tr>\n    <tr>\n      <th>30</th>\n      <td>NaN</td>\n      <td>NaN</td>\n      <td>NaN</td>\n      <td>NaN</td>\n      <td>NaN</td>\n      <td>NaN</td>\n      <td>NaN</td>\n      <td>NaN</td>\n      <td>NaN</td>\n      <td>NaN</td>\n      <td>...</td>\n      <td>NaN</td>\n      <td>NaN</td>\n      <td>NaN</td>\n      <td>NaN</td>\n      <td>NaN</td>\n      <td>NaN</td>\n      <td>NaN</td>\n      <td>definitely incorrect</td>\n      <td>NaN</td>\n      <td>6383683509193</td>\n    </tr>\n    <tr>\n      <th>37</th>\n      <td>NaN</td>\n      <td>NaN</td>\n      <td>definitely correct</td>\n      <td>NaN</td>\n      <td>NaN</td>\n      <td>NaN</td>\n      <td>NaN</td>\n      <td>NaN</td>\n      <td>NaN</td>\n      <td>NaN</td>\n      <td>...</td>\n      <td>NaN</td>\n      <td>NaN</td>\n      <td>NaN</td>\n      <td>NaN</td>\n      <td>NaN</td>\n      <td>NaN</td>\n      <td>NaN</td>\n      <td>NaN</td>\n      <td>definitely correct</td>\n      <td>69377727154642</td>\n    </tr>\n    <tr>\n      <th>39</th>\n      <td>NaN</td>\n      <td>NaN</td>\n      <td>NaN</td>\n      <td>NaN</td>\n      <td>NaN</td>\n      <td>NaN</td>\n      <td>NaN</td>\n      <td>NaN</td>\n      <td>NaN</td>\n      <td>NaN</td>\n      <td>...</td>\n      <td>NaN</td>\n      <td>NaN</td>\n      <td>NaN</td>\n      <td>NaN</td>\n      <td>NaN</td>\n      <td>NaN</td>\n      <td>NaN</td>\n      <td>NaN</td>\n      <td>definitely correct</td>\n      <td>2982167620211</td>\n    </tr>\n    <tr>\n      <th>44</th>\n      <td>NaN</td>\n      <td>NaN</td>\n      <td>NaN</td>\n      <td>NaN</td>\n      <td>NaN</td>\n      <td>NaN</td>\n      <td>NaN</td>\n      <td>NaN</td>\n      <td>NaN</td>\n      <td>NaN</td>\n      <td>...</td>\n      <td>NaN</td>\n      <td>NaN</td>\n      <td>NaN</td>\n      <td>definitely incorrect</td>\n      <td>NaN</td>\n      <td>NaN</td>\n      <td>NaN</td>\n      <td>NaN</td>\n      <td>NaN</td>\n      <td>13732979469932</td>\n    </tr>\n    <tr>\n      <th>48</th>\n      <td>NaN</td>\n      <td>NaN</td>\n      <td>NaN</td>\n      <td>definitely correct</td>\n      <td>NaN</td>\n      <td>NaN</td>\n      <td>NaN</td>\n      <td>NaN</td>\n      <td>NaN</td>\n      <td>NaN</td>\n      <td>...</td>\n      <td>NaN</td>\n      <td>NaN</td>\n      <td>NaN</td>\n      <td>NaN</td>\n      <td>neither definitely correct nor definitely inco...</td>\n      <td>NaN</td>\n      <td>NaN</td>\n      <td>NaN</td>\n      <td>NaN</td>\n      <td>3813853557221</td>\n    </tr>\n    <tr>\n      <th>50</th>\n      <td>NaN</td>\n      <td>NaN</td>\n      <td>NaN</td>\n      <td>NaN</td>\n      <td>NaN</td>\n      <td>NaN</td>\n      <td>NaN</td>\n      <td>NaN</td>\n      <td>NaN</td>\n      <td>NaN</td>\n      <td>...</td>\n      <td>NaN</td>\n      <td>NaN</td>\n      <td>definitely correct</td>\n      <td>NaN</td>\n      <td>NaN</td>\n      <td>NaN</td>\n      <td>NaN</td>\n      <td>NaN</td>\n      <td>definitely correct</td>\n      <td>48222230374813</td>\n    </tr>\n    <tr>\n      <th>54</th>\n      <td>NaN</td>\n      <td>NaN</td>\n      <td>NaN</td>\n      <td>NaN</td>\n      <td>NaN</td>\n      <td>NaN</td>\n      <td>NaN</td>\n      <td>NaN</td>\n      <td>NaN</td>\n      <td>NaN</td>\n      <td>...</td>\n      <td>NaN</td>\n      <td>NaN</td>\n      <td>NaN</td>\n      <td>definitely incorrect</td>\n      <td>NaN</td>\n      <td>NaN</td>\n      <td>NaN</td>\n      <td>NaN</td>\n      <td>NaN</td>\n      <td>18138183839619</td>\n    </tr>\n    <tr>\n      <th>60</th>\n      <td>NaN</td>\n      <td>NaN</td>\n      <td>NaN</td>\n      <td>NaN</td>\n      <td>NaN</td>\n      <td>NaN</td>\n      <td>NaN</td>\n      <td>NaN</td>\n      <td>NaN</td>\n      <td>NaN</td>\n      <td>...</td>\n      <td>NaN</td>\n      <td>NaN</td>\n      <td>NaN</td>\n      <td>NaN</td>\n      <td>NaN</td>\n      <td>NaN</td>\n      <td>NaN</td>\n      <td>NaN</td>\n      <td>definitely correct</td>\n      <td>78198984265327</td>\n    </tr>\n    <tr>\n      <th>62</th>\n      <td>NaN</td>\n      <td>NaN</td>\n      <td>NaN</td>\n      <td>NaN</td>\n      <td>NaN</td>\n      <td>NaN</td>\n      <td>NaN</td>\n      <td>NaN</td>\n      <td>NaN</td>\n      <td>NaN</td>\n      <td>...</td>\n      <td>NaN</td>\n      <td>NaN</td>\n      <td>NaN</td>\n      <td>NaN</td>\n      <td>NaN</td>\n      <td>definitely correct</td>\n      <td>NaN</td>\n      <td>NaN</td>\n      <td>NaN</td>\n      <td>37883877265267</td>\n    </tr>\n    <tr>\n      <th>63</th>\n      <td>NaN</td>\n      <td>NaN</td>\n      <td>NaN</td>\n      <td>NaN</td>\n      <td>NaN</td>\n      <td>NaN</td>\n      <td>NaN</td>\n      <td>definitely correct</td>\n      <td>NaN</td>\n      <td>NaN</td>\n      <td>...</td>\n      <td>NaN</td>\n      <td>NaN</td>\n      <td>NaN</td>\n      <td>NaN</td>\n      <td>NaN</td>\n      <td>NaN</td>\n      <td>neither definitely correct nor definitely inco...</td>\n      <td>NaN</td>\n      <td>NaN</td>\n      <td>8198794443160</td>\n    </tr>\n    <tr>\n      <th>64</th>\n      <td>NaN</td>\n      <td>NaN</td>\n      <td>NaN</td>\n      <td>NaN</td>\n      <td>NaN</td>\n      <td>NaN</td>\n      <td>NaN</td>\n      <td>NaN</td>\n      <td>NaN</td>\n      <td>NaN</td>\n      <td>...</td>\n      <td>NaN</td>\n      <td>NaN</td>\n      <td>NaN</td>\n      <td>NaN</td>\n      <td>NaN</td>\n      <td>NaN</td>\n      <td>NaN</td>\n      <td>NaN</td>\n      <td>definitely correct</td>\n      <td>95119172590784</td>\n    </tr>\n    <tr>\n      <th>65</th>\n      <td>NaN</td>\n      <td>NaN</td>\n      <td>NaN</td>\n      <td>NaN</td>\n      <td>NaN</td>\n      <td>NaN</td>\n      <td>NaN</td>\n      <td>NaN</td>\n      <td>NaN</td>\n      <td>NaN</td>\n      <td>...</td>\n      <td>NaN</td>\n      <td>NaN</td>\n      <td>NaN</td>\n      <td>NaN</td>\n      <td>NaN</td>\n      <td>NaN</td>\n      <td>NaN</td>\n      <td>NaN</td>\n      <td>definitely correct</td>\n      <td>95733413449488</td>\n    </tr>\n    <tr>\n      <th>66</th>\n      <td>NaN</td>\n      <td>NaN</td>\n      <td>NaN</td>\n      <td>NaN</td>\n      <td>NaN</td>\n      <td>NaN</td>\n      <td>NaN</td>\n      <td>NaN</td>\n      <td>NaN</td>\n      <td>NaN</td>\n      <td>...</td>\n      <td>NaN</td>\n      <td>NaN</td>\n      <td>NaN</td>\n      <td>NaN</td>\n      <td>NaN</td>\n      <td>NaN</td>\n      <td>NaN</td>\n      <td>definitely incorrect</td>\n      <td>NaN</td>\n      <td>25947750336490</td>\n    </tr>\n    <tr>\n      <th>67</th>\n      <td>NaN</td>\n      <td>NaN</td>\n      <td>NaN</td>\n      <td>NaN</td>\n      <td>NaN</td>\n      <td>NaN</td>\n      <td>NaN</td>\n      <td>NaN</td>\n      <td>NaN</td>\n      <td>NaN</td>\n      <td>...</td>\n      <td>NaN</td>\n      <td>NaN</td>\n      <td>NaN</td>\n      <td>NaN</td>\n      <td>NaN</td>\n      <td>definitely correct</td>\n      <td>NaN</td>\n      <td>NaN</td>\n      <td>NaN</td>\n      <td>37273650430142</td>\n    </tr>\n    <tr>\n      <th>71</th>\n      <td>NaN</td>\n      <td>NaN</td>\n      <td>NaN</td>\n      <td>NaN</td>\n      <td>NaN</td>\n      <td>NaN</td>\n      <td>NaN</td>\n      <td>NaN</td>\n      <td>NaN</td>\n      <td>NaN</td>\n      <td>...</td>\n      <td>NaN</td>\n      <td>NaN</td>\n      <td>NaN</td>\n      <td>NaN</td>\n      <td>NaN</td>\n      <td>NaN</td>\n      <td>NaN</td>\n      <td>NaN</td>\n      <td>definitely correct</td>\n      <td>69503748207353</td>\n    </tr>\n    <tr>\n      <th>72</th>\n      <td>NaN</td>\n      <td>NaN</td>\n      <td>NaN</td>\n      <td>NaN</td>\n      <td>NaN</td>\n      <td>NaN</td>\n      <td>NaN</td>\n      <td>NaN</td>\n      <td>NaN</td>\n      <td>NaN</td>\n      <td>...</td>\n      <td>NaN</td>\n      <td>NaN</td>\n      <td>NaN</td>\n      <td>NaN</td>\n      <td>NaN</td>\n      <td>NaN</td>\n      <td>NaN</td>\n      <td>definitely incorrect</td>\n      <td>NaN</td>\n      <td>13361342321150</td>\n    </tr>\n    <tr>\n      <th>77</th>\n      <td>NaN</td>\n      <td>NaN</td>\n      <td>NaN</td>\n      <td>NaN</td>\n      <td>NaN</td>\n      <td>NaN</td>\n      <td>NaN</td>\n      <td>NaN</td>\n      <td>NaN</td>\n      <td>NaN</td>\n      <td>...</td>\n      <td>NaN</td>\n      <td>NaN</td>\n      <td>NaN</td>\n      <td>NaN</td>\n      <td>NaN</td>\n      <td>NaN</td>\n      <td>neither definitely correct nor definitely inco...</td>\n      <td>NaN</td>\n      <td>NaN</td>\n      <td>46358098718337</td>\n    </tr>\n    <tr>\n      <th>78</th>\n      <td>NaN</td>\n      <td>NaN</td>\n      <td>NaN</td>\n      <td>NaN</td>\n      <td>definitely incorrect</td>\n      <td>NaN</td>\n      <td>NaN</td>\n      <td>NaN</td>\n      <td>NaN</td>\n      <td>NaN</td>\n      <td>...</td>\n      <td>NaN</td>\n      <td>NaN</td>\n      <td>NaN</td>\n      <td>definitely incorrect</td>\n      <td>NaN</td>\n      <td>NaN</td>\n      <td>NaN</td>\n      <td>NaN</td>\n      <td>NaN</td>\n      <td>81421692809090</td>\n    </tr>\n    <tr>\n      <th>79</th>\n      <td>NaN</td>\n      <td>NaN</td>\n      <td>NaN</td>\n      <td>NaN</td>\n      <td>NaN</td>\n      <td>NaN</td>\n      <td>NaN</td>\n      <td>NaN</td>\n      <td>NaN</td>\n      <td>NaN</td>\n      <td>...</td>\n      <td>NaN</td>\n      <td>NaN</td>\n      <td>NaN</td>\n      <td>definitely incorrect</td>\n      <td>NaN</td>\n      <td>NaN</td>\n      <td>NaN</td>\n      <td>NaN</td>\n      <td>NaN</td>\n      <td>53600934171117</td>\n    </tr>\n    <tr>\n      <th>82</th>\n      <td>NaN</td>\n      <td>NaN</td>\n      <td>NaN</td>\n      <td>NaN</td>\n      <td>NaN</td>\n      <td>NaN</td>\n      <td>NaN</td>\n      <td>NaN</td>\n      <td>NaN</td>\n      <td>NaN</td>\n      <td>...</td>\n      <td>NaN</td>\n      <td>NaN</td>\n      <td>NaN</td>\n      <td>NaN</td>\n      <td>NaN</td>\n      <td>NaN</td>\n      <td>NaN</td>\n      <td>NaN</td>\n      <td>definitely correct</td>\n      <td>80719325295649</td>\n    </tr>\n    <tr>\n      <th>83</th>\n      <td>NaN</td>\n      <td>NaN</td>\n      <td>NaN</td>\n      <td>NaN</td>\n      <td>NaN</td>\n      <td>NaN</td>\n      <td>NaN</td>\n      <td>NaN</td>\n      <td>NaN</td>\n      <td>NaN</td>\n      <td>...</td>\n      <td>NaN</td>\n      <td>NaN</td>\n      <td>NaN</td>\n      <td>NaN</td>\n      <td>neither definitely correct nor definitely inco...</td>\n      <td>NaN</td>\n      <td>NaN</td>\n      <td>NaN</td>\n      <td>NaN</td>\n      <td>29851378197781</td>\n    </tr>\n    <tr>\n      <th>85</th>\n      <td>NaN</td>\n      <td>NaN</td>\n      <td>NaN</td>\n      <td>NaN</td>\n      <td>NaN</td>\n      <td>NaN</td>\n      <td>NaN</td>\n      <td>NaN</td>\n      <td>NaN</td>\n      <td>NaN</td>\n      <td>...</td>\n      <td>NaN</td>\n      <td>NaN</td>\n      <td>NaN</td>\n      <td>definitely incorrect</td>\n      <td>NaN</td>\n      <td>NaN</td>\n      <td>NaN</td>\n      <td>NaN</td>\n      <td>NaN</td>\n      <td>12559431069530</td>\n    </tr>\n    <tr>\n      <th>88</th>\n      <td>neither definitely correct nor definitely inco...</td>\n      <td>NaN</td>\n      <td>NaN</td>\n      <td>NaN</td>\n      <td>NaN</td>\n      <td>NaN</td>\n      <td>NaN</td>\n      <td>definitely correct</td>\n      <td>NaN</td>\n      <td>NaN</td>\n      <td>...</td>\n      <td>NaN</td>\n      <td>NaN</td>\n      <td>NaN</td>\n      <td>NaN</td>\n      <td>neither definitely correct nor definitely inco...</td>\n      <td>NaN</td>\n      <td>NaN</td>\n      <td>NaN</td>\n      <td>NaN</td>\n      <td>89232312422245</td>\n    </tr>\n    <tr>\n      <th>89</th>\n      <td>NaN</td>\n      <td>NaN</td>\n      <td>NaN</td>\n      <td>NaN</td>\n      <td>NaN</td>\n      <td>NaN</td>\n      <td>NaN</td>\n      <td>NaN</td>\n      <td>NaN</td>\n      <td>NaN</td>\n      <td>...</td>\n      <td>NaN</td>\n      <td>definitely correct</td>\n      <td>NaN</td>\n      <td>NaN</td>\n      <td>neither definitely correct nor definitely inco...</td>\n      <td>NaN</td>\n      <td>NaN</td>\n      <td>NaN</td>\n      <td>NaN</td>\n      <td>7078240392729</td>\n    </tr>\n  </tbody>\n</table>\n<p>37 rows × 312 columns</p>\n</div>"
     },
     "metadata": {},
     "execution_count": 121
    }
   ],
   "source": [
    "# failed_attention_checks = [f[1] for f in failed_attention_checks]\n",
    "# response_questions = response_questions[response_questions.index not in failed_attention_checks]\n",
    "drop_indexes = list(response_questions.index)\n",
    "drop_indexes = [i for i in drop_indexes if i not in failed_attention_checks]\n",
    "print(drop_indexes)\n",
    "response_questions.drop(response_questions.index[drop_indexes],inplace=True)\n",
    "response_questions\n",
    "# print(response_questions)"
   ]
  },
  {
   "cell_type": "code",
   "execution_count": 63,
   "metadata": {},
   "outputs": [
    {
     "output_type": "execute_result",
     "data": {
      "text/plain": "37"
     },
     "metadata": {},
     "execution_count": 63
    }
   ],
   "source": [
    "len(list(response_questions.index))"
   ]
  },
  {
   "cell_type": "code",
   "execution_count": 64,
   "metadata": {
    "tags": []
   },
   "outputs": [
    {
     "output_type": "stream",
     "name": "stdout",
     "text": "'That is the kind of critic I dont like .'' not found\n{'randomID': ['61445326288230', '5918052908964', '85769710945896', '23467815760523', '59494899632409', '58872996177524', '43165576714091', '68321020714938', '92963079409673', '90455432306043', '57974082743749', '94496444007381', '95626433915458', '6383683509193', '69377727154642', '2982167620211', '13732979469932', '3813853557221', '48222230374813', '18138183839619', '78198984265327', '37883877265267', '8198794443160', '95119172590784', '95733413449488', '25947750336490', '37273650430142', '69503748207353', '13361342321150', '46358098718337', '81421692809090', '53600934171117', '80719325295649', '29851378197781', '12559431069530', '89232312422245', '7078240392729'], 'numberCorrect': [6, 4, 8, 9, 7, 12, 12, 7, 10, 1, 10, 5, 5, 3, 12, 11, 11, 12, 10, 5, 3, 6, 9, 11, 6, 7, 5, 12, 10, 12, 7, 9, 11, 11, 7, 10, 8]}\n37\n37\n"
    }
   ],
   "source": [
    "import json\n",
    "\n",
    "answer_map = {\n",
    "    'definitely correct': 'e',\n",
    "    'definitely incorrect': 'c',\n",
    "    'neither definitely correct nor definitely incorrect': 'n'\n",
    "}\n",
    "\n",
    "\n",
    "first_rejects = pd.read_csv(\"./phase_1_rejections.csv\")\n",
    "# response_questions.drop(response_questions.index[list(first_rejects.row)],inplace=True)\n",
    "questions = open(\"./ANLI_R3_Survey_Final.qsf\", 'r')\n",
    "js = json.load(questions)\n",
    "labels = pd.read_json('./anli/r3/train.jsonl',lines=True)\n",
    "labels.drop(['reason','uid'],axis=1,inplace=True)\n",
    "\n",
    "# use df to calculate human accuracys\n",
    "human_performance = {\n",
    "    'randomID':[],\n",
    "    'numberCorrect':[],\n",
    "}\n",
    "i=0\n",
    "for id in range(len(list(response_questions.index))):\n",
    "    # print(id)\n",
    "    answers = dict(response_questions.iloc[id].dropna())\n",
    "    human_performance['randomID'].append(answers['RandomId'])\n",
    "    human_performance['numberCorrect'].append(0)\n",
    "    for k,v in answers.items():\n",
    "        if k == 'RandomId':\n",
    "            continue\n",
    "        for j in range(21, 319):\n",
    "            if js['SurveyElements'][j]['PrimaryAttribute'] == k:\n",
    "                question = js['SurveyElements'][j]['Payload']['QuestionText']\n",
    "                # get rid of the template\n",
    "                question = question.replace(\"<strong>\", \"\").replace(\"</strong>\",\"\").replace(\"\"\"<span style=\"font-weight: bolder;\">Given the Premise, is the Hypothesis definitely correct, definitely incorrect, or neither? You should only choose definitely correct if the Hypothesis is clearly stated in the Premise. You should only choose definitely incorrect if the Hypothesis is clearly contradicted</span><span style=\"font-weight: bolder;\"> by the Premise.</span>\n",
    "<div><br>\"\"\", \"\").replace(\"\"\"<p><span style=\"font-weight: bolder;\"><b>\"\"\", \"\").replace(\"\"\"</b></span> <span style=\"white-space: pre-wrap;\">\"\"\",\"\").replace(\"</span></p>\",\"\").replace(\"<br><p><span><b>Hypothesis: </b></span>\",\"\").replace(\"</p>\\n</div>\",\"\").replace(\"Premise: \", \"\")\n",
    "                # separate the premise and hypothesis\n",
    "                sentences = question.split(\"\\n\")\n",
    "                # sentences = set(sentences)\n",
    "                sentences = [z for z in sentences if z != '']\n",
    "                # if id == len(response_questions) - 1:\n",
    "                #     print(sentences)\n",
    "                #     print('\\n')\n",
    "                \n",
    "                # find the correct answer and increment numberCorrect if they got it right\n",
    "                premise = sentences[0]\n",
    "                hypothesis = sentences[1]\n",
    "                # print(hypothesis)\n",
    "                try:\n",
    "                    correct_label = labels[labels['hypothesis'] == hypothesis]['label'].values[0]\n",
    "                except IndexError:\n",
    "                    print(f\"'{hypothesis}'' not found\")\n",
    "                    human_performance['numberCorrect'][i] += 1\n",
    "                    break\n",
    "                # print(correct_label)\n",
    "                if answer_map[v] == correct_label:\n",
    "                    # print(i)\n",
    "                    human_performance['numberCorrect'][i] += 1\n",
    "                \n",
    "                break\n",
    "    i += 1\n",
    "\n",
    "\n",
    "print(human_performance)\n",
    "print(i)\n",
    "print(len(human_performance['randomID']))\n",
    "\n",
    "\n",
    "out_df = pd.DataFrame(human_performance)\n",
    "\n",
    "out_df.to_csv('./results.csv')\n",
    "            \n",
    "\n",
    "\n",
    "\n"
   ]
  },
  {
   "cell_type": "code",
   "execution_count": 18,
   "metadata": {
    "tags": []
   },
   "outputs": [
    {
     "output_type": "execute_result",
     "data": {
      "text/plain": "{'QID24': 'neither definitely correct nor definitely incorrect',\n 'QID46': 'definitely correct',\n 'QID101': 'definitely correct',\n 'QID102': 'neither definitely correct nor definitely incorrect',\n 'QID107': 'definitely correct',\n 'QID136': 'neither definitely correct nor definitely incorrect',\n 'Q302': 'definitely incorrect',\n 'QID193': 'neither definitely correct nor definitely incorrect',\n 'QID198': 'definitely incorrect',\n 'QID220': 'definitely correct',\n 'QID264': 'neither definitely correct nor definitely incorrect',\n 'QID282': 'definitely correct',\n 'QID290': 'neither definitely correct nor definitely incorrect',\n 'QID299': 'definitely correct',\n 'Q309': 'neither definitely correct nor definitely incorrect',\n 'RandomId': '7078240392729'}"
     },
     "metadata": {},
     "execution_count": 18
    }
   ],
   "source": [
    "answers = dict(response_questions.iloc[-1].dropna())\n",
    "answers\n",
    "# labels[labels['premise'] == 'Moreover, Canada encourages an expansion of religious freedom in China, including Tibet, and I do not doubt that Canada would welcome a dialogue between Chinese authorities and the Dalai Lama, a world spiritual leader who earned the Nobel Peace Prize in 1989 for his dedication to peace and human rights.' a labels['hypothesis'] == 'Canada which for more freedom of belief coming out of the other country ']\n",
    "# labels[labels['premise'] == 'Moreover, Canada encourages an expansion of religious freedom in China, including Tibet, and I do not doubt that Canada would welcome a dialogue between Chinese authorities and the Dalai Lama, a world spiritual leader who earned the Nobel Peace Prize in 1989 for his dedication to peace and human rights.']\n",
    "# labels[labels['premise'] == 'Moreover, Canada encourages an expansion of religious freedom in China, including Tibet, and I do not doubt that Canada would welcome a dialogue between Chinese authorities and the Dalai Lama, a world spiritual leader who earned the Nobel Peace Prize in 1989 for his dedication to peace and human rights.' and labels['hypothesis'] == 'Canada which for more freedom of belief coming out of the other country ']\n",
    "\n",
    "# labels[labels['hypothesis'] == 'Canada which for more freedom of belief coming out of the other country ']['label'].values\n",
    "\n",
    "# labels[labels.premise.str.contains(,case=False)]"
   ]
  },
  {
   "cell_type": "markdown",
   "metadata": {},
   "source": [
    "# Calaculate fleiss kappa IAA"
   ]
  },
  {
   "cell_type": "code",
   "execution_count": 89,
   "metadata": {
    "tags": []
   },
   "outputs": [
    {
     "output_type": "stream",
     "name": "stdout",
     "text": "[[3 0 0]\n [0 3 0]\n [0 0 3]]\n3.0\n9.0\n[3 3 3]\n"
    },
    {
     "output_type": "execute_result",
     "data": {
      "text/plain": "1.0"
     },
     "metadata": {},
     "execution_count": 89
    }
   ],
   "source": [
    "import numpy as np\n",
    "test = np.array([[3,0,0],[0,3,0],[0,0,3]])\n",
    "print(test)\n",
    "fleiss_kappa(test)"
   ]
  },
  {
   "cell_type": "code",
   "execution_count": 126,
   "metadata": {
    "tags": []
   },
   "outputs": [
    {
     "output_type": "stream",
     "name": "stdout",
     "text": "37\n[[0. 0. 1.]\n [0. 0. 0.]\n [2. 0. 0.]\n [1. 0. 0.]\n [0. 1. 0.]\n [1. 0. 0.]\n [0. 0. 0.]\n [3. 0. 0.]\n [0. 1. 0.]\n [0. 0. 0.]\n [0. 0. 1.]\n [2. 0. 2.]\n [0. 0. 0.]\n [0. 1. 0.]\n [0. 0. 2.]\n [1. 0. 0.]\n [1. 1. 0.]\n [1. 0. 0.]\n [2. 0. 0.]\n [0. 0. 0.]\n [0. 0. 1.]\n [0. 1. 0.]\n [1. 1. 3.]\n [1. 0. 1.]\n [0. 2. 0.]\n [2. 0. 0.]\n [0. 0. 1.]\n [0. 0. 0.]\n [0. 1. 0.]\n [1. 0. 0.]\n [0. 2. 0.]\n [0. 0. 1.]\n [0. 0. 0.]\n [0. 0. 0.]\n [0. 0. 1.]\n [1. 0. 0.]\n [0. 0. 1.]\n [2. 1. 0.]\n [1. 0. 1.]\n [1. 0. 0.]\n [1. 1. 1.]\n [1. 0. 0.]\n [0. 0. 0.]\n [1. 0. 0.]\n [1. 0. 0.]\n [0. 1. 0.]\n [0. 2. 0.]\n [6. 0. 0.]\n [0. 0. 0.]\n [0. 0. 1.]\n [0. 0. 0.]\n [1. 0. 0.]\n [3. 1. 0.]\n [0. 2. 0.]\n [1. 0. 0.]\n [0. 0. 1.]\n [1. 1. 1.]\n [0. 0. 0.]\n [2. 0. 0.]\n [0. 1. 0.]\n [0. 0. 0.]\n [2. 0. 0.]\n [3. 0. 0.]\n [0. 1. 0.]\n [0. 0. 2.]\n [1. 0. 0.]\n [0. 2. 1.]\n [0. 1. 1.]\n [1. 0. 0.]\n [0. 2. 0.]\n [1. 0. 0.]\n [0. 0. 1.]\n [1. 0. 0.]\n [0. 1. 3.]\n [0. 0. 0.]\n [0. 1. 1.]\n [0. 2. 0.]\n [0. 1. 1.]\n [0. 2. 1.]\n [0. 2. 0.]\n [0. 0. 1.]\n [0. 2. 0.]\n [1. 1. 0.]\n [0. 0. 0.]\n [1. 1. 0.]\n [0. 0. 0.]\n [1. 1. 0.]\n [2. 0. 0.]\n [0. 2. 0.]\n [1. 0. 1.]\n [0. 0. 0.]\n [4. 0. 1.]\n [0. 1. 2.]\n [0. 0. 2.]\n [2. 0. 0.]\n [3. 0. 0.]\n [0. 0. 0.]\n [1. 0. 3.]\n [2. 0. 0.]\n [3. 1. 1.]\n [0. 1. 1.]\n [3. 0. 1.]\n [1. 0. 0.]\n [1. 0. 0.]\n [0. 0. 0.]\n [1. 0. 0.]\n [0. 0. 0.]\n [1. 0. 0.]\n [0. 0. 0.]\n [0. 0. 0.]\n [1. 0. 0.]\n [0. 0. 1.]\n [0. 0. 1.]\n [0. 0. 0.]\n [0. 0. 3.]\n [3. 1. 0.]\n [0. 1. 1.]\n [1. 0. 0.]\n [0. 0. 0.]\n [0. 0. 1.]\n [0. 0. 0.]\n [1. 1. 2.]\n [0. 0. 0.]\n [2. 0. 0.]\n [0. 1. 0.]\n [0. 0. 0.]\n [1. 0. 0.]\n [1. 0. 0.]\n [1. 0. 0.]\n [1. 0. 0.]\n [1. 0. 2.]\n [1. 0. 0.]\n [0. 0. 0.]\n [0. 1. 1.]\n [0. 0. 1.]\n [3. 0. 0.]\n [1. 0. 1.]\n [0. 0. 1.]\n [0. 1. 0.]\n [0. 1. 0.]\n [1. 1. 0.]\n [0. 2. 1.]\n [0. 0. 1.]\n [0. 0. 0.]\n [0. 0. 0.]\n [0. 1. 1.]\n [0. 0. 1.]\n [1. 0. 0.]\n [2. 0. 0.]\n [0. 0. 0.]\n [0. 0. 2.]\n [2. 0. 1.]\n [0. 0. 0.]\n [0. 0. 1.]\n [1. 0. 1.]\n [0. 0. 1.]\n [0. 1. 0.]\n [0. 0. 3.]\n [0. 1. 0.]\n [0. 0. 0.]\n [0. 2. 0.]\n [1. 1. 0.]\n [3. 0. 0.]\n [0. 0. 1.]\n [1. 0. 1.]\n [0. 1. 0.]\n [0. 0. 0.]\n [1. 0. 0.]\n [0. 0. 0.]\n [3. 0. 0.]\n [1. 0. 1.]\n [0. 1. 0.]\n [1. 1. 0.]\n [0. 0. 2.]\n [0. 3. 0.]\n [1. 0. 1.]\n [3. 0. 0.]\n [0. 0. 1.]\n [0. 0. 0.]\n [1. 0. 0.]\n [1. 0. 1.]\n [1. 0. 1.]\n [2. 2. 2.]\n [0. 1. 0.]\n [2. 0. 0.]\n [0. 0. 0.]\n [4. 0. 0.]\n [2. 0. 0.]\n [1. 2. 0.]\n [1. 0. 1.]\n [0. 0. 3.]\n [0. 0. 1.]\n [0. 0. 1.]\n [0. 3. 0.]\n [1. 0. 0.]\n [3. 0. 0.]\n [0. 4. 1.]\n [0. 0. 1.]\n [4. 0. 0.]\n [5. 0. 0.]\n [0. 1. 0.]\n [1. 0. 0.]\n [2. 0. 1.]\n [2. 0. 0.]\n [1. 0. 1.]\n [4. 0. 0.]\n [0. 1. 1.]\n [1. 1. 1.]\n [3. 0. 1.]\n [0. 0. 1.]\n [1. 0. 0.]\n [1. 0. 1.]\n [0. 0. 0.]\n [2. 0. 2.]\n [0. 0. 1.]\n [5. 1. 0.]\n [0. 0. 0.]\n [0. 0. 2.]\n [2. 0. 1.]\n [1. 0. 0.]\n [2. 0. 0.]\n [1. 1. 0.]\n [0. 1. 1.]\n [2. 0. 0.]\n [0. 1. 1.]\n [1. 0. 0.]\n [2. 0. 1.]\n [0. 1. 0.]\n [0. 1. 0.]\n [3. 0. 0.]\n [0. 0. 0.]\n [2. 1. 1.]\n [1. 0. 0.]\n [1. 1. 1.]\n [0. 1. 0.]\n [1. 2. 1.]\n [0. 0. 1.]\n [0. 1. 0.]\n [0. 0. 0.]\n [0. 0. 0.]\n [3. 0. 0.]\n [0. 0. 0.]\n [0. 0. 0.]\n [2. 0. 0.]\n [0. 0. 2.]\n [0. 0. 1.]\n [0. 0. 2.]\n [0. 0. 0.]\n [0. 0. 1.]\n [0. 0. 1.]\n [0. 0. 2.]\n [0. 0. 1.]\n [1. 1. 0.]\n [2. 0. 0.]\n [0. 0. 1.]\n [0. 0. 0.]\n [0. 0. 0.]\n [2. 0. 0.]\n [0. 0. 1.]\n [0. 1. 0.]\n [2. 0. 3.]\n [2. 0. 0.]\n [1. 0. 1.]\n [0. 0. 1.]\n [0. 2. 2.]\n [2. 0. 0.]\n [1. 0. 1.]\n [0. 0. 0.]\n [0. 2. 0.]\n [1. 1. 0.]\n [0. 2. 0.]\n [0. 0. 2.]\n [0. 0. 1.]\n [1. 0. 0.]\n [0. 2. 0.]\n [0. 0. 0.]\n [0. 0. 1.]\n [0. 0. 0.]\n [0. 1. 0.]\n [0. 0. 1.]\n [2. 1. 0.]\n [0. 1. 2.]\n [1. 0. 0.]\n [0. 0. 0.]\n [0. 0. 0.]\n [1. 0. 0.]\n [1. 0. 0.]\n [1. 1. 1.]\n [1. 0. 2.]\n [1. 0. 0.]\n [0. 1. 0.]\n [1. 0. 1.]\n [1. 1. 0.]\n [0. 0. 0.]\n [2. 0. 0.]\n [2. 0. 1.]\n [0. 0. 0.]\n [1. 0. 0.]]\n37\n481\n[224. 112. 143.]\n[0.46569647 0.23284823 0.2972973 ]\n0.35947718068300194\n-0.025517967632061593\n-0.6011\n"
    }
   ],
   "source": [
    "import numpy as np\n",
    "# entails is the first column, condractis the second, and neutral the third\n",
    "answer_map = {\n",
    "    'definitely correct': 0,\n",
    "    'definitely incorrect': 1,\n",
    "    'neither definitely correct nor definitely incorrect': 2\n",
    "}\n",
    "\n",
    "\n",
    "questions = open(\"./ANLI_R3_Survey_Final.qsf\", 'r')\n",
    "js = json.load(questions)\n",
    "# response_df = pd.read_csv('./ANLI_R3_Survey_Final_September 4, 2020_09.04.csv')\n",
    "# response_questions = response_df.drop(['StartDate','EndDate','Status','IPAddress','Progress','Duration (in seconds)','Finished','RecordedDate','ResponseId','RecipientLastName', \\\n",
    "# 'RecipientFirstName','RecipientEmail','ExternalReference','LocationLatitude','LocationLongitude','DistributionChannel','UserLanguage'],axis=1)\n",
    "# response_questions.set_index('Random ID',inplace=True)\n",
    "# response_questions.rename(columns={\"Random ID\": \"RandomId\"}, inplace=True)\n",
    "\n",
    "\n",
    "M = np.zeros((298,3))\n",
    "\n",
    "print(len(response_questions.index))\n",
    "for id in range(len(list(response_questions.index))):\n",
    "    # print(id)\n",
    "    answers = dict(response_questions.iloc[id].dropna())\n",
    "    for k,v in answers.items():\n",
    "        if k == 'RandomId':\n",
    "            continue\n",
    "        i = 0\n",
    "        for j in range(21, 319):\n",
    "            if js['SurveyElements'][j]['PrimaryAttribute'] == k:\n",
    "                M[i][answer_map[v]] += 1\n",
    "                break\n",
    "            i += 1\n",
    "print(M)\n",
    "print(fleiss_kappa(M))"
   ]
  },
  {
   "cell_type": "code",
   "execution_count": 123,
   "metadata": {},
   "outputs": [],
   "source": [
    "def fleiss_kappa(M):\n",
    "    \"\"\"Computes Fleiss' kappa for group of annotators.\n",
    "    :param M: a matrix of shape (:attr:'N', :attr:'k') with 'N' = number of subjects and 'k' = the number of categories.\n",
    "        'M[i, j]' represent the number of raters who assigned the 'i'th subject to the 'j'th category.\n",
    "    :type: numpy matrix\n",
    "    :rtype: float\n",
    "    :return: Fleiss' kappa score\n",
    "    \"\"\"\n",
    "    N, k = M.shape  # N is # of items, k is # of categories\n",
    "    # n_annotators = float(np.sum(M[0, :]))  # # of annotators\n",
    "    n_annotators = 37\n",
    "    # tot_annotations = N * n_annotators  # the total # of annotations\n",
    "    tot_annotations = 481\n",
    "    print(n_annotators)\n",
    "    print(tot_annotations)\n",
    "    category_sum = np.sum(M, axis=0)  # the sum of each category over all items\n",
    "    print(category_sum)\n",
    "\n",
    "    # chance agreement\n",
    "    p = category_sum / tot_annotations  # the distribution of each category over all annotations\n",
    "    print(p)\n",
    "    PbarE = np.sum(p * p)  # average chance agreement over all categories\n",
    "    print(PbarE)\n",
    "\n",
    "    # observed agreement\n",
    "    P = (np.sum(M * M, axis=1) - n_annotators) / (n_annotators * (n_annotators - 1))\n",
    "    # print(P)\n",
    "    Pbar = np.sum(P) / N  # add all observed agreement chances per item and divide by amount of items\n",
    "    print(Pbar)\n",
    "\n",
    "    return round((Pbar - PbarE) / (1 - PbarE), 4)"
   ]
  },
  {
   "cell_type": "markdown",
   "metadata": {},
   "source": [
    "# Drop the ones who get less than 33% accuracy including attention checks"
   ]
  },
  {
   "cell_type": "code",
   "execution_count": 4,
   "metadata": {},
   "outputs": [
    {
     "output_type": "execute_result",
     "data": {
      "text/plain": "0     38444590615108\n1     45814142562448\n2     90455432306043\n3      6236248067580\n4     47813011775724\n5     76947914436459\n6     34203467890620\n7     39416330726817\n8     75171326450072\n9     13275972031988\n10    94022159604355\nName: randomID, dtype: int64"
     },
     "metadata": {},
     "execution_count": 4
    }
   ],
   "source": [
    "to_drop = pd.read_csv(\"./rejections.csv\")\n",
    "to_drop.randomID"
   ]
  },
  {
   "cell_type": "code",
   "execution_count": 8,
   "metadata": {},
   "outputs": [
    {
     "output_type": "error",
     "ename": "NameError",
     "evalue": "name 'response_question' is not defined",
     "traceback": [
      "\u001b[1;31m---------------------------------------------------------------------------\u001b[0m",
      "\u001b[1;31mNameError\u001b[0m                                 Traceback (most recent call last)",
      "\u001b[1;32m<ipython-input-8-0e95504cde68>\u001b[0m in \u001b[0;36m<module>\u001b[1;34m\u001b[0m\n\u001b[0;32m      4\u001b[0m \u001b[1;31m# print(drop_indexes)\u001b[0m\u001b[1;33m\u001b[0m\u001b[1;33m\u001b[0m\u001b[1;33m\u001b[0m\u001b[0m\n\u001b[0;32m      5\u001b[0m \u001b[1;31m# response_questions.drop(response_questions.index[drop_indexes],inplace=True)\u001b[0m\u001b[1;33m\u001b[0m\u001b[1;33m\u001b[0m\u001b[1;33m\u001b[0m\u001b[0m\n\u001b[1;32m----> 6\u001b[1;33m \u001b[1;32mfor\u001b[0m \u001b[0mi\u001b[0m \u001b[1;32min\u001b[0m \u001b[0mrange\u001b[0m\u001b[1;33m(\u001b[0m\u001b[0mlen\u001b[0m\u001b[1;33m(\u001b[0m\u001b[0mresponse_question\u001b[0m\u001b[1;33m)\u001b[0m\u001b[1;33m)\u001b[0m\u001b[1;33m:\u001b[0m\u001b[1;33m\u001b[0m\u001b[1;33m\u001b[0m\u001b[0m\n\u001b[0m\u001b[0;32m      7\u001b[0m     \u001b[1;32mif\u001b[0m \u001b[0mres_questions\u001b[0m\u001b[1;33m.\u001b[0m\u001b[0miloc\u001b[0m\u001b[1;33m[\u001b[0m\u001b[0mi\u001b[0m\u001b[1;33m]\u001b[0m\u001b[1;33m.\u001b[0m\u001b[0mrandomID\u001b[0m \u001b[1;32min\u001b[0m \u001b[0mdrop_indexes\u001b[0m\u001b[1;33m:\u001b[0m\u001b[1;33m\u001b[0m\u001b[1;33m\u001b[0m\u001b[0m\n\u001b[0;32m      8\u001b[0m         \u001b[0mresponse_questions\u001b[0m\u001b[1;33m.\u001b[0m\u001b[0mdrop\u001b[0m\u001b[1;33m(\u001b[0m\u001b[0mresponse_questions\u001b[0m\u001b[1;33m.\u001b[0m\u001b[0miloc\u001b[0m\u001b[1;33m[\u001b[0m\u001b[0mi\u001b[0m\u001b[1;33m]\u001b[0m\u001b[1;33m,\u001b[0m\u001b[0minplace\u001b[0m\u001b[1;33m=\u001b[0m\u001b[1;32mTrue\u001b[0m\u001b[1;33m)\u001b[0m\u001b[1;33m\u001b[0m\u001b[1;33m\u001b[0m\u001b[0m\n",
      "\u001b[1;31mNameError\u001b[0m: name 'response_question' is not defined"
     ]
    }
   ],
   "source": [
    "drop_indexes = list(to_drop.randomID)\n",
    "drop_indexes\n",
    "# drop_indexes = [i for i in drop_indexes if i not in failed_attention_checks]\n",
    "# print(drop_indexes)\n",
    "# response_questions.drop(response_questions.index[drop_indexes],inplace=True)\n",
    "for i in range(len(response_questions)):\n",
    "    if res_questions.iloc[i].randomID in drop_indexes:\n",
    "        response_questions.drop(response_questions.iloc[i],inplace=True)\n",
    "response_questions"
   ]
  },
  {
   "cell_type": "code",
   "execution_count": null,
   "metadata": {},
   "outputs": [],
   "source": []
  }
 ]
}